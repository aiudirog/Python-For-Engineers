{
 "cells": [
  {
   "cell_type": "markdown",
   "metadata": {},
   "source": [
    "# Functions"
   ]
  },
  {
   "cell_type": "markdown",
   "metadata": {},
   "source": [
    "## Standard Functions\n",
    "\n",
    "Functions are used to give a name to repetitive code that needs to be used more than once with different parameters. If you ever find yourself copying and pasting code just to change a few variables, consider writing a function. Functions in Python are set up simply as shown below:"
   ]
  },
  {
   "cell_type": "code",
   "execution_count": 3,
   "metadata": {},
   "outputs": [
    {
     "name": "stdout",
     "output_type": "stream",
     "text": [
      "arg1 is less than arg2\n"
     ]
    }
   ],
   "source": [
    "def my_function(arg1, arg2):\n",
    "    if arg1 > arg2:\n",
    "        print('arg1 is greater than arg2')\n",
    "    else:\n",
    "        print('arg1 is less than arg2')\n",
    "\n",
    "my_function(3, 4)"
   ]
  },
  {
   "cell_type": "markdown",
   "metadata": {},
   "source": [
    "The `return` keyword can be used to return one or more outputs from a function. If more than one output is specified, the return type will be a `tuple` containing the objects. If no object is specified to be returned or no return statement is used, the function will automatically return `None`."
   ]
  },
  {
   "cell_type": "code",
   "execution_count": 11,
   "metadata": {},
   "outputs": [
    {
     "name": "stdout",
     "output_type": "stream",
     "text": [
      "True\n",
      "False\n"
     ]
    }
   ],
   "source": [
    "def find_x(my_list, x):\n",
    "    # Return True if the value of x is in the list, False if not\n",
    "    return x in my_list\n",
    "\n",
    "print(find_x([0, 'a', 5], 'a'))\n",
    "print(find_x([0, 2, 4], 3))"
   ]
  },
  {
   "cell_type": "code",
   "execution_count": 12,
   "metadata": {},
   "outputs": [
    {
     "name": "stdout",
     "output_type": "stream",
     "text": [
      "(2, 20)\n"
     ]
    }
   ],
   "source": [
    "def get_max_val_and_index(my_list):\n",
    "    # Return the maximum value and index of that value in a list\n",
    "    \n",
    "    current_max_index = 0\n",
    "    # enumerate() returns the index and value when iterated over\n",
    "    # It is what is known as a generator\n",
    "    # Later in this chapter we will code enumerate() from scratch\n",
    "    for n, val in enumerate(my_list):\n",
    "        if val > my_list[current_max_index]:\n",
    "            current_max_index = n\n",
    "    return current_max_index, my_list[current_max_index]\n",
    "    \n",
    "    # A more efficient solution to this problem is:\n",
    "    return max(enumerate(my_list), key=lambda x: x[1])\n",
    "    # However this requires the use of a lambda statement \n",
    "    # which we will talk about in the Anonymous Functions section.\n",
    "    # Note that this second return statement will not run\n",
    "    # since one before it already ran\n",
    "\n",
    "print(get_max_val_and_index([0, 9, 20, 2, 4]))"
   ]
  },
  {
   "cell_type": "markdown",
   "metadata": {},
   "source": [
    "## Argument Unpacking"
   ]
  },
  {
   "cell_type": "code",
   "execution_count": null,
   "metadata": {},
   "outputs": [],
   "source": []
  },
  {
   "cell_type": "code",
   "execution_count": null,
   "metadata": {},
   "outputs": [],
   "source": []
  },
  {
   "cell_type": "markdown",
   "metadata": {},
   "source": [
    "## Anonymous Functions\n",
    "\n",
    "Sometimes, you may need a quick one line function to do something. The `lambda` keyword defines a callable function that isn't required to be given a name, hence, anonymous."
   ]
  },
  {
   "cell_type": "code",
   "execution_count": 8,
   "metadata": {},
   "outputs": [
    {
     "name": "stdout",
     "output_type": "stream",
     "text": [
      "8\n"
     ]
    }
   ],
   "source": [
    "power = lambda b, e: b**e\n",
    "print(power(2, 3))"
   ]
  },
  {
   "cell_type": "markdown",
   "metadata": {},
   "source": [
    "Here, `power` is defined as a function that takes a base and an exponent and returns the result of exponentiation. However, didn't I say these were supposed to be anonymous? Let's design a more useful result. Let's say I have a list of numbers and I want to return the cube of all of them quickly. We can do this in one line by leveraging the `map()` function and a `lambda`. `map(func, iterable)` takes a function and applies it to each element in the provided `iterable` and returns a generator (which will be covered in the next section, so for now we will coerce it into a list)."
   ]
  },
  {
   "cell_type": "code",
   "execution_count": 9,
   "metadata": {},
   "outputs": [
    {
     "name": "stdout",
     "output_type": "stream",
     "text": [
      "[1, 8, 27, 64]\n"
     ]
    }
   ],
   "source": [
    "cubes = list(map(lambda x: x**3, [1, 2, 3, 4,]))\n",
    "print(cubes)"
   ]
  },
  {
   "cell_type": "markdown",
   "metadata": {},
   "source": [
    "`filter(func, iterable)` is another useful function that is most often paired with lambdas. It can filter an `iterable` based upon the output of `func`. If `func` returns `True`, the value is placed in the output, otherwise it is ignored. Let's say we only want numbers >=3."
   ]
  },
  {
   "cell_type": "code",
   "execution_count": 10,
   "metadata": {},
   "outputs": [
    {
     "name": "stdout",
     "output_type": "stream",
     "text": [
      "[3, 4]\n"
     ]
    }
   ],
   "source": [
    "min3 = list(filter(lambda x: x >= 3, [1, 2, 3, 4,]))\n",
    "print(min3)"
   ]
  },
  {
   "cell_type": "markdown",
   "metadata": {},
   "source": [
    "## Generators\n",
    "\n",
    "Generators can be thought of as functions can pause periodically to `yield` a value and then can continue execution from where they left off when called again. Common generators that you have already seen are `enumerate()` and `range()`. Let's break down how these two work."
   ]
  },
  {
   "cell_type": "code",
   "execution_count": 42,
   "metadata": {},
   "outputs": [
    {
     "name": "stdout",
     "output_type": "stream",
     "text": [
      "0\n",
      "10\n",
      "20\n",
      "30\n",
      "40\n"
     ]
    }
   ],
   "source": [
    "def my_range(*args):\n",
    "    # Duplicate the functionality of the built in function: range()\n",
    "    # range accepts up to 3 arguments\n",
    "    num_args = len(args)\n",
    "    if num_args == 3:  # If we have 3, we got start, stop, and step\n",
    "        start, stop, step = args\n",
    "    elif num_args == 2:  # With 2, we only got start and stop\n",
    "        start, stop = args\n",
    "        step = 1\n",
    "    elif num_args == 1:  # With just 1, we only got stop\n",
    "        stop = args[0]\n",
    "        start = 0\n",
    "        step = 1\n",
    "    else:  # In any other case, raise an error.\n",
    "        if num_args > 3:\n",
    "            raise TypeError(\n",
    "                \"my_range expected at most 3 arguments, \"\n",
    "                \"got %\" % num_args\n",
    "            )\n",
    "        else:\n",
    "            raise TypeError(\n",
    "                \"my_range expected 1 argument, got %s\" % num_args\n",
    "            )\n",
    "    \n",
    "    # Start our counter at `start`. \n",
    "    # We could also just use `start` as a counter and increment that\n",
    "    # but this is clearer.\n",
    "    i = start\n",
    "    while i < stop:\n",
    "        # Now here is what makes a generator a generator. \n",
    "        # yield pauses execution. The next() time the generator\n",
    "        # is advanced, it will start here.\n",
    "        yield i\n",
    "        i += step\n",
    "        \n",
    "# First we initialize our generator\n",
    "up_to_50_by_10s = my_range(0, 50, 10)\n",
    "# Then, we can run the next iteration with the next() function\n",
    "# We know it should iterate 5 times, so let's do that:\n",
    "print(next(up_to_50_by_10s))\n",
    "print(next(up_to_50_by_10s))\n",
    "print(next(up_to_50_by_10s))\n",
    "print(next(up_to_50_by_10s))\n",
    "print(next(up_to_50_by_10s))"
   ]
  },
  {
   "cell_type": "markdown",
   "metadata": {},
   "source": [
    "Now what happens when we call `next()` again on `up_to_50_by_10s`? The `while` loop is going to end and the function will return. So what should `next()` return?"
   ]
  },
  {
   "cell_type": "code",
   "execution_count": 43,
   "metadata": {},
   "outputs": [
    {
     "ename": "StopIteration",
     "evalue": "",
     "output_type": "error",
     "traceback": [
      "\u001b[0;31m---------------------------------------------------------------------------\u001b[0m",
      "\u001b[0;31mStopIteration\u001b[0m                             Traceback (most recent call last)",
      "\u001b[0;32m<ipython-input-43-c45c561c2d90>\u001b[0m in \u001b[0;36m<module>\u001b[0;34m()\u001b[0m\n\u001b[0;32m----> 1\u001b[0;31m \u001b[0mnext\u001b[0m\u001b[0;34m(\u001b[0m\u001b[0mup_to_50_by_10s\u001b[0m\u001b[0;34m)\u001b[0m\u001b[0;34m\u001b[0m\u001b[0m\n\u001b[0m",
      "\u001b[0;31mStopIteration\u001b[0m: "
     ]
    }
   ],
   "source": [
    "next(up_to_50_by_10s)"
   ]
  },
  {
   "cell_type": "markdown",
   "metadata": {},
   "source": [
    "As you can see, an exception was raised! We can catch this error when iterating manually to make sure we don't crash our program. In fact, that is precisely what a `for` loop does. It repeatedly calls the `next()` function on an iterator until `StopIteration` is raised and then the `for` loop ends. The output of `range()` and `my_range()` should be exactly the same. (Note: `for` technically doesn't call `next()`, but rather it calls the same stuff that `next()` does. However for practical purposes this distinction doesn't matter.)"
   ]
  },
  {
   "cell_type": "code",
   "execution_count": 44,
   "metadata": {},
   "outputs": [
    {
     "name": "stdout",
     "output_type": "stream",
     "text": [
      "range demo\n",
      "2\n",
      "3\n",
      "4\n",
      "5\n",
      "my_range demo\n",
      "2\n",
      "3\n",
      "4\n",
      "5\n"
     ]
    }
   ],
   "source": [
    "print(\"range demo\")\n",
    "for i in range(2, 6):\n",
    "    print(i)\n",
    "    \n",
    "print(\"my_range demo\")\n",
    "for i in my_range(2, 6):\n",
    "    print(i)"
   ]
  },
  {
   "cell_type": "markdown",
   "metadata": {},
   "source": [
    "Now, onto `enumerate()`. This function takes an iterable and returns the index and the value of each element. You can also specify a `start` value as of Python 2.6."
   ]
  },
  {
   "cell_type": "code",
   "execution_count": 45,
   "metadata": {},
   "outputs": [
    {
     "name": "stdout",
     "output_type": "stream",
     "text": [
      "(99, 'a')\n",
      "(100, 'b')\n",
      "(101, 'c')\n"
     ]
    }
   ],
   "source": [
    "def my_enumerate(iterable, start=0):\n",
    "    # Duplicate the functionality of the built-in function: enumerate()\n",
    "    # This function is much simpler than range as it just returns\n",
    "    # the index and value of each element\n",
    "    i = start\n",
    "    for val in iterable:\n",
    "        yield i, val\n",
    "        i += 1\n",
    "\n",
    "enum = my_enumerate(['a', 'b', 'c'], start=99)\n",
    "print(next(enum))\n",
    "print(next(enum))\n",
    "print(next(enum))"
   ]
  },
  {
   "cell_type": "markdown",
   "metadata": {},
   "source": [
    "Here you can see that just like `return`, we are able to send multiple values back. However, what if we also wanted to be able to update a variable inside of a generator once it has been initialized? For this, `yield` actually has a return value of its own. Let's make an extension to `my_enumerate()` that allows you to change `i` at will."
   ]
  },
  {
   "cell_type": "code",
   "execution_count": 46,
   "metadata": {},
   "outputs": [
    {
     "name": "stdout",
     "output_type": "stream",
     "text": [
      "(99, 'a')\n",
      "(2, 'b')\n",
      "(1054, 'c')\n"
     ]
    }
   ],
   "source": [
    "def my_enumerate2(iterable, start=0):\n",
    "    # Duplicate the functionality of the built-in function: enumerate()\n",
    "    # This function is much simpler than range as it just returns\n",
    "    # the index and value of each element\n",
    "    i = start\n",
    "    for val in iterable:\n",
    "        i = yield i, val\n",
    "        i += 1\n",
    "\n",
    "enum = my_enumerate2(['a', 'b', 'c'], start=99)\n",
    "print(next(enum))\n",
    "print(enum.send(1))\n",
    "print(enum.send(1053))"
   ]
  },
  {
   "cell_type": "markdown",
   "metadata": {},
   "source": [
    "Because of the rules of Python, we must call `next()` to start the iterations. However after that, we can use `enum.send(val)` to send in a value to the generator. The value gets placed in `i` due to the assignment and the next iteration happens. When assignment from `yield` occurs, the the pause point is at the equals sign. `i` will be updated when `.send()` is called again."
   ]
  },
  {
   "cell_type": "markdown",
   "metadata": {},
   "source": [
    "## Decorators"
   ]
  },
  {
   "cell_type": "code",
   "execution_count": null,
   "metadata": {},
   "outputs": [],
   "source": []
  },
  {
   "cell_type": "code",
   "execution_count": null,
   "metadata": {},
   "outputs": [],
   "source": []
  },
  {
   "cell_type": "code",
   "execution_count": null,
   "metadata": {},
   "outputs": [],
   "source": []
  },
  {
   "cell_type": "code",
   "execution_count": null,
   "metadata": {},
   "outputs": [],
   "source": []
  },
  {
   "cell_type": "code",
   "execution_count": null,
   "metadata": {},
   "outputs": [],
   "source": []
  },
  {
   "cell_type": "code",
   "execution_count": null,
   "metadata": {},
   "outputs": [],
   "source": []
  },
  {
   "cell_type": "code",
   "execution_count": null,
   "metadata": {},
   "outputs": [],
   "source": []
  },
  {
   "cell_type": "code",
   "execution_count": null,
   "metadata": {},
   "outputs": [],
   "source": []
  },
  {
   "cell_type": "code",
   "execution_count": null,
   "metadata": {},
   "outputs": [],
   "source": []
  },
  {
   "cell_type": "code",
   "execution_count": null,
   "metadata": {},
   "outputs": [],
   "source": []
  }
 ],
 "metadata": {
  "kernelspec": {
   "display_name": "Python 3",
   "language": "python",
   "name": "python3"
  },
  "language_info": {
   "codemirror_mode": {
    "name": "ipython",
    "version": 3
   },
   "file_extension": ".py",
   "mimetype": "text/x-python",
   "name": "python",
   "nbconvert_exporter": "python",
   "pygments_lexer": "ipython3",
   "version": "3.6.5"
  }
 },
 "nbformat": 4,
 "nbformat_minor": 2
}
