{
 "cells": [
  {
   "cell_type": "markdown",
   "metadata": {},
   "source": [
    "Introduction\n",
    "==========\n",
    "\n",
    "The goal of this book is help familiarize engineers with the most common features of Python and the most common libraries that will be used. Most engineers are already familiar with a language like Matlab or VBA, so the very basics of programming won't be covered."
   ]
  },
  {
   "cell_type": "markdown",
   "metadata": {},
   "source": [
    "## A Quick Example"
   ]
  },
  {
   "cell_type": "markdown",
   "metadata": {},
   "source": [
    "Python is an incredibly dynamic language that lets you write complex statements quickly and compactly. Let's say you had a table of prices for common things per year and you wanted to find the year when buying all of them would be cheapest. You can do that in just one line:"
   ]
  },
  {
   "cell_type": "code",
   "execution_count": 6,
   "metadata": {},
   "outputs": [
    {
     "name": "stdout",
     "output_type": "stream",
     "text": [
      "2: $1321\n"
     ]
    }
   ],
   "source": [
    "# I do need to set up my data\n",
    "prices = {\n",
    "    'Cell Phone': [250, 255, 260, 240, 231],\n",
    "    'Laptop': [801, 850, 760, 925, 860],\n",
    "    'Headphones': [320, 255, 301, 360, 293],\n",
    "}\n",
    "\n",
    "year, min_price = min([(year, sum(prices[name][year] for name in prices)) for year in range(5)], key=lambda x: x[1])\n",
    "\n",
    "print(\"{0}: ${1}\".format(year, min_price))\n",
    "# In Python >3.6 -> print(f\"{year}: ${min_price}\")"
   ]
  },
  {
   "cell_type": "markdown",
   "metadata": {},
   "source": [
    "For now, the above might look complex, however in the chapter on generators we will break the example down piece by piece."
   ]
  },
  {
   "cell_type": "markdown",
   "metadata": {},
   "source": [
    "## Indentation is Everything"
   ]
  },
  {
   "cell_type": "markdown",
   "metadata": {},
   "source": [
    "For Matlab users, Python can be very similar. One of the major differences, however, is that Python determines the end of its functions and clauses by indentation, rather than a defined end keyword. Take this Matlab code for example:"
   ]
  },
  {
   "cell_type": "markdown",
   "metadata": {},
   "source": [
    "```matlab\n",
    "function y = is_even(x)\n",
    "% Return whethor not a number is even\n",
    "% Yes, I know I could just return mod(x, 2), but that wouldn't show indentation as well\n",
    "if mod(x, 2) == 0\n",
    "    y = 1\n",
    "else\n",
    "    y = 0\n",
    "end \n",
    "end\n",
    "```"
   ]
  },
  {
   "cell_type": "markdown",
   "metadata": {},
   "source": [
    "Note that the indentation of the `if` clause is really only for readability. The parser is looking for an `else` or `end` keyword to stop reading. In Python, it would look more like this:"
   ]
  },
  {
   "cell_type": "code",
   "execution_count": 10,
   "metadata": {},
   "outputs": [
    {
     "data": {
      "text/plain": [
       "0"
      ]
     },
     "execution_count": 10,
     "metadata": {},
     "output_type": "execute_result"
    }
   ],
   "source": [
    "def is_even(x):\n",
    "    if x % 2 == 0:\n",
    "        return 1\n",
    "    else:\n",
    "        return 0\n",
    "    \n",
    "is_even(3)"
   ]
  },
  {
   "cell_type": "markdown",
   "metadata": {},
   "source": [
    "Here, anytime there is a colon, the next level must be indented. This is how Python determines where a function or clause begins and ends. When the indentation level moves back out, the clause has ended. More commonly, this function would be written more succinctly as follows, using the built in booleans, `True` and `False`:"
   ]
  },
  {
   "cell_type": "code",
   "execution_count": 11,
   "metadata": {},
   "outputs": [
    {
     "data": {
      "text/plain": [
       "False"
      ]
     },
     "execution_count": 11,
     "metadata": {},
     "output_type": "execute_result"
    }
   ],
   "source": [
    "def is_even(x):\n",
    "    # Return True if x is even, otherwise return False\n",
    "    return x % 2 == 0\n",
    "\n",
    "is_even(3)"
   ]
  },
  {
   "cell_type": "markdown",
   "metadata": {},
   "source": [
    "## Coding with Style"
   ]
  },
  {
   "cell_type": "markdown",
   "metadata": {},
   "source": [
    "Most languages have a few different styles for writing code. In Java, for example, variables and methods typically use the camelCaseNaming convention where classes use AllUpperCaseNames. There have been great debates over things like where to put the curly braces ({}) in statements like if, for, and while and tabs versus spaces for indentation. \n",
    "\n",
    "To solve most of these discrepancies, Python has a dedicated, community driven style guide known as PEP8 [https://www.python.org/dev/peps/pep-0008/]. The goal of this guide is to have consistent styling across all code written in Python so promote readability and ease of use. Unless your company has its own style guide, it is best to adhere to PEP8 as well as you can. Below I will demonstrate a quick example script that should over a lot of the most common elements. It's okay if some of the code presented below is unfamiliar. All of it will be covered in later chapters."
   ]
  },
  {
   "cell_type": "code",
   "execution_count": 7,
   "metadata": {},
   "outputs": [],
   "source": [
    "# Import each module on its own line\n",
    "# Avoid doing import lib1, lib2\n",
    "import os\n",
    "import time\n",
    "# Use explicit imports\n",
    "# Avoid using from lib import * since you don't know what will be pulled\n",
    "# in and unknown functions could overwrite your own (known as shadowing)\n",
    "from math import cos, sin \n",
    "\n",
    "my_str = \"All python code lines should have a maximum line length of 79 \" \\\n",
    "            \"chars unless a longer line length is agreed upon \" \\\n",
    "            \"by the project team\"\n",
    "\n",
    "# One blank line above functions\n",
    "def my_function(my_arg, my_kwarg=False):\n",
    "    \n",
    "    \"\"\"\n",
    "    All comments and doc strings should have a maximum line length of 72\n",
    "    characters.\n",
    "    \n",
    "    Function/method names should use the snake_case style.\n",
    "    \n",
    "    Indentation should be 4 spaces unless otherwise dictated.\n",
    "    Most editors can be configured (and some are by default) to treat\n",
    "    4 spaces as a tab and insert them when hitting the tab key and\n",
    "    removing them as one when backspacing over them.\n",
    "    \"\"\"\n",
    "    my_variable = \"Variables should also use the snake case style\"\n",
    "\n",
    "# All comments and doc strings should have a maximum line length of 72\n",
    "x = 2  # End of line comments should be 2 spaces, a #, then space (__#_)\n",
    "\n",
    "# In Python 3.5 and later, type hinting can be used to help\n",
    "# IDEs determine auto completion and increase readablity\n",
    "from typing import List, Union\n",
    "def typed_function(x: int, my_int_list: List[int], \n",
    "                   multityped_arg: Union[int, str], \n",
    "                   typed_kwarg: bool=False) -> bool:\n",
    "    my_typed_var: bool = typed_function(1, [2, 3], \"test\", True)\n",
    "    if my_typed_var:\n",
    "        return False\n",
    "    else:\n",
    "        for i in my_int_list:\n",
    "            # No parenthesis are required in if statements\n",
    "            # except to resolve order of operations\n",
    "            if type(multityped_arg) == int and i == 2:\n",
    "                return 2\n",
    "            elif type(multityped_arg) == str and i == 3:\n",
    "                return \"3\"\n",
    "            else:\n",
    "                return 10\n",
    "\n",
    "\n",
    "# Two blank lines above and below classes\n",
    "class MyClass:\n",
    "    \n",
    "    # Class names use the UpperCaseNaming style\n",
    "    def __init__(self, arg1):\n",
    "        self.arg1 = arg1\n",
    "        \n",
    "    # One line between functions\n",
    "    def do_not_do_this(self, arg2):\n",
    "        # Do NOT create new arguments outside of __init__\n",
    "        # unless you really need to or the setup method\n",
    "        # is only ever called from __init__.\n",
    "        # Declare them as None if you don't want to set them immedietly.\n",
    "        self.arg2 = arg2  # Do not do this\n",
    "\n",
    "        \n",
    "class MyClass2(MyClass):  # Only use parenthesis when inheriting\n",
    "    pass\n",
    "\n"
   ]
  },
  {
   "cell_type": "code",
   "execution_count": null,
   "metadata": {},
   "outputs": [],
   "source": []
  }
 ],
 "metadata": {
  "kernelspec": {
   "display_name": "Python 3",
   "language": "python",
   "name": "python3"
  },
  "language_info": {
   "codemirror_mode": {
    "name": "ipython",
    "version": 3
   },
   "file_extension": ".py",
   "mimetype": "text/x-python",
   "name": "python",
   "nbconvert_exporter": "python",
   "pygments_lexer": "ipython3",
   "version": "3.6.5"
  }
 },
 "nbformat": 4,
 "nbformat_minor": 2
}
