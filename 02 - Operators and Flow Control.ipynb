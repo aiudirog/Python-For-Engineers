{
 "cells": [
  {
   "cell_type": "markdown",
   "metadata": {},
   "source": [
    "# Operators & Flow Control"
   ]
  },
  {
   "cell_type": "markdown",
   "metadata": {},
   "source": [
    "## Operators\n",
    "\n",
    "The first thing I want to talk about are the operators used to perform math and logic."
   ]
  },
  {
   "cell_type": "markdown",
   "metadata": {},
   "source": [
    "### Math Operators\n",
    "\n",
    "The basic mathematical operators of Python are exactly what you expect: add (`+`), subtract (`-`), multiply (`*`), and divide (`/`). These are demonstrated below."
   ]
  },
  {
   "cell_type": "code",
   "execution_count": 42,
   "metadata": {},
   "outputs": [
    {
     "name": "stdout",
     "output_type": "stream",
     "text": [
      "x = 1024\n",
      "x = 3\n",
      "x = -18\n",
      "x = 112\n",
      "x = 1.0\n",
      "x = -2\n"
     ]
    }
   ],
   "source": [
    "# I know the below prints aren't PEP 8, but it is cleaner for these\n",
    "x = 1024                                      ;print(\"x = {}\".format(x))\n",
    "y = 2\n",
    "\n",
    "x = y + 1                                     ;print(\"x = {}\".format(x))\n",
    "x = y - 20                                    ;print(\"x = {}\".format(x))\n",
    "x = y * 56                                    ;print(\"x = {}\".format(x))\n",
    "x = y / 2                                     ;print(\"x = {}\".format(x))\n",
    "x = -y                                        ;print(\"x = {}\".format(x))"
   ]
  },
  {
   "cell_type": "markdown",
   "metadata": {},
   "source": [
    "Notice how division, even when it results in an integer, is a float type.\n",
    "\n",
    "In addition to these basic operators, three more are provided: floor division (`//`), modulus (`%`), and exponentiation (`*`)"
   ]
  },
  {
   "cell_type": "code",
   "execution_count": 43,
   "metadata": {},
   "outputs": [
    {
     "name": "stdout",
     "output_type": "stream",
     "text": [
      "x = 16\n",
      "x = 10\n",
      "x = 2.0\n",
      "x = 2.0\n",
      "x = 2.0\n",
      "x = 3\n"
     ]
    }
   ],
   "source": [
    "x = 4 ** 2                                    ;print(\"x = {}\".format(x))\n",
    "x = 21 // 2                                   ;print(\"x = {}\".format(x))\n",
    "x = 4.5 // 2                                  ;print(\"x = {}\".format(x))\n",
    "x = 4.0 // 2                                  ;print(\"x = {}\".format(x))\n",
    "x = 4 // 2.0                                  ;print(\"x = {}\".format(x))\n",
    "x = 21 % 6                                    ;print(\"x = {}\".format(x))"
   ]
  },
  {
   "cell_type": "markdown",
   "metadata": {},
   "source": [
    "Floor division clears the remainder and keeps the number as an integer if both the divisor and dividend are integers, else the output is a float.\n",
    "\n",
    "Modulus returns the remainder of the division."
   ]
  },
  {
   "cell_type": "markdown",
   "metadata": {},
   "source": [
    "There is also one more operator that was defined in Python 3.5: the matrix multiplication operator, `@`. We will talk about this one more in the chapter on numpy and matrix operations."
   ]
  },
  {
   "cell_type": "markdown",
   "metadata": {},
   "source": [
    "### Bitwise Operators\n",
    "\n",
    "These operators are incredibly useful for engineers when checking status bits. I have come across people using the `bin()` function to convert an integer to a string of 1s and 0s and then checking individual characters (which is something I myself was guilty of when I first started programming). This is both time and memory inefficient compared to bit shifting and anding. Before we go into use cases, let's cover the basics, however."
   ]
  },
  {
   "cell_type": "code",
   "execution_count": 44,
   "metadata": {},
   "outputs": [
    {
     "name": "stdout",
     "output_type": "stream",
     "text": [
      "x = 0b100001\n",
      "x = 0b111111\n",
      "x = 0b11110\n",
      "x = 0b1101\n",
      "x = 0b1101101000\n"
     ]
    }
   ],
   "source": [
    "# The 'and' (&) operator only lets bits through that \n",
    "# are the same in both numbers\n",
    "x = 0b110011 & 0b101101                   ;print(\"x = 0b{:b}\".format(x))\n",
    "# The 'or' operator (|) lets bits pass if they exist in either number\n",
    "x = 0b110011 | 0b101101                   ;print(\"x = 0b{:b}\".format(x))\n",
    "# The 'exclusive or' operator (^) only lets bits through that exist\n",
    "# in one or the other number, but not both\n",
    "x = 0b110011 ^ 0b101101                   ;print(\"x = 0b{:b}\".format(x))\n",
    "# Bit shift right (>>) shifts the bits to the right. \n",
    "# Bits that 'fall off' are discarded.\n",
    "x = 0b1101101 >> 3                        ;print(\"x = 0b{:b}\".format(x))\n",
    "# Bit shift left (>>) shifts the bits to the left. \n",
    "# Zeros are added from the right.\n",
    "x = 0b1101101 << 3                        ;print(\"x = 0b{:b}\".format(x))"
   ]
  },
  {
   "cell_type": "markdown",
   "metadata": {},
   "source": [
    "Now, lets cover two simple use cases. We have a status word coming off the engine. The 5th bit (with the 1s bit being the 1st) tells us if the engine is overheating, so we want to check it out. The 3rd and 4th bits are used to determine the state of a nozzle. They follow this pattern:\n",
    "\n",
    "| 3 | 4 | Meaning                  |\n",
    "|---|---|:-------------------------|\n",
    "| 0 | 0 | Nozzle if off            |\n",
    "| 1 | 0 | Nozzle has low flow      |\n",
    "| 0 | 1 | Nozzle has high flow     |\n",
    "| 1 | 1 | Nozzle has malfunctioned |\n",
    "\n",
    "Now let's suppose our boss wants to know if the Nozzle has flow and if it has malfunctioned. He also wants to know if the engine overheated. This should be easy enough, so lets start coding."
   ]
  },
  {
   "cell_type": "code",
   "execution_count": 45,
   "metadata": {},
   "outputs": [
    {
     "name": "stdout",
     "output_type": "stream",
     "text": [
      "overheat = True\n",
      "bit3 = True\n",
      "bit4 = False\n",
      "flow = True\n",
      "malfunction = False\n"
     ]
    }
   ],
   "source": [
    "status = 0b10100  # High flow, overheating\n",
    "\n",
    "# To check if overheating has happened, lets check the 5th bit\n",
    "# To do this, we can and with 0b10000 to isolate the 5th bit\n",
    "overheat = status & 0b10000      ;print(\"overheat = {}\".format(bool(overheat)))\n",
    "# Now, lets check if there is flow. We need to determine if the 3rd or \n",
    "# 4th bit is set but not both, for this we can use exclusive or\n",
    "bit3 = status & 0b00100                  ;print(\"bit3 = {}\".format(bool(bit3)))\n",
    "bit4 = status & 0b01000                  ;print(\"bit4 = {}\".format(bool(bit4)))\n",
    "flow = bit3 ^ bit4                       ;print(\"flow = {}\".format(bool(flow)))\n",
    "# Finally, the malfunction occurs if bit3 and bit4 are set\n",
    "malfunction = bit3 & bit4  ;print(\"malfunction = {}\".format(bool(malfunction)))"
   ]
  },
  {
   "cell_type": "markdown",
   "metadata": {},
   "source": [
    "There is one more bitwise operator that I haven't covered. This is the complement (`~`) operator. In most languages, this one inverts the values of all of the bits and is referred to as 'not.' However in Python, integers don't have a fixed length and are always signed, so the not operator works a little differently than one might expect:"
   ]
  },
  {
   "cell_type": "code",
   "execution_count": 46,
   "metadata": {},
   "outputs": [
    {
     "name": "stdout",
     "output_type": "stream",
     "text": [
      "it = 0b101011\n",
      "not_it = 0b-101100\n"
     ]
    }
   ],
   "source": [
    "it = 0b101011                          ;print(\"it = 0b{:b}\".format(it))\n",
    "not_it = ~it                           ;print(\"not_it = 0b{:b}\".format(not_it))"
   ]
  },
  {
   "cell_type": "markdown",
   "metadata": {},
   "source": [
    "If you've come from another language, you probably expected `not_it` to equal `0b0101001`, so what is going on here? It turns out, that since integers have no fixed length and are always signed, the `~` operator is actually equivalent to `-x-1`, where `x + ~x = -1`. This is proved below."
   ]
  },
  {
   "cell_type": "code",
   "execution_count": 47,
   "metadata": {},
   "outputs": [
    {
     "name": "stdout",
     "output_type": "stream",
     "text": [
      "x = 86\n",
      "~x = -87\n",
      "-x-1 = -87\n",
      "x + ~x = -1\n"
     ]
    }
   ],
   "source": [
    "x = 0b1010110\n",
    "print(\"x = {}\".format(x))\n",
    "print(\"~x = {}\".format(~x))\n",
    "print(\"-x-1 = {}\".format(-x-1))\n",
    "print(\"x + ~x = {}\".format(x + ~x))"
   ]
  },
  {
   "cell_type": "markdown",
   "metadata": {},
   "source": [
    "If you just need to invert all of the bits, the best way to accomplish that is through a mask like so:"
   ]
  },
  {
   "cell_type": "code",
   "execution_count": 48,
   "metadata": {},
   "outputs": [
    {
     "name": "stdout",
     "output_type": "stream",
     "text": [
      "mask = 0b1111111\n",
      "not_x = 0b101001\n"
     ]
    }
   ],
   "source": [
    "# Get the number of bits used in x: 7\n",
    "# Bit shift up to that size number: 0b10000000\n",
    "# Subtract 1 to create a full set of 1s of length 7: 0b1111111\n",
    "# Parenthesis are important because of order of operations\n",
    "mask = (1 << x.bit_length()) - 1         ;print(\"mask = 0b{:b}\".format(mask))\n",
    "# XOR will capture all of the oposite bits\n",
    "# The ones set in the mask but not x\n",
    "not_x = x ^ mask                         ;print(\"not_x = 0b{:b}\".format(not_x))"
   ]
  },
  {
   "cell_type": "markdown",
   "metadata": {},
   "source": [
    "#### *Side Note: Self Application Shorthand*\n",
    "\n",
    "All symbol based operators have a shorthand form to apply the action to the current value. For example: `x = x + 1` can also be written as `x += 1`. Below you can see many of them in action."
   ]
  },
  {
   "cell_type": "code",
   "execution_count": 52,
   "metadata": {},
   "outputs": [
    {
     "name": "stdout",
     "output_type": "stream",
     "text": [
      "x = 1024\n",
      "x = 1025\n",
      "x = 1015\n",
      "x = 2030\n",
      "x = 8365427000\n",
      "x = 408\n",
      "x = 45.333333333333336\n",
      "x = 22.0\n",
      "x = 20\n",
      "x = 22\n",
      "x = 3\n",
      "x = 0\n",
      "x = 0\n"
     ]
    }
   ],
   "source": [
    "x = 1024                                      ;print(\"x = {}\".format(x))\n",
    "x += 1                                        ;print(\"x = {}\".format(x))\n",
    "x -= 10                                       ;print(\"x = {}\".format(x))\n",
    "x *= 2                                        ;print(\"x = {}\".format(x))\n",
    "x **= 3                                       ;print(\"x = {}\".format(x))\n",
    "x %= 2216                                     ;print(\"x = {}\".format(x))\n",
    "x /= 9                                        ;print(\"x = {}\".format(x))\n",
    "x //= 2                                       ;print(\"x = {}\".format(x))\n",
    "x = int(x)  # Reset back to an integer\n",
    "x &= 0b11101                                  ;print(\"x = {}\".format(x))\n",
    "x |= 0b00010                                  ;print(\"x = {}\".format(x))\n",
    "x ^= 0b10101                                  ;print(\"x = {}\".format(x))\n",
    "x >>= 2                                       ;print(\"x = {}\".format(x))\n",
    "x <<= 2                                       ;print(\"x = {}\".format(x))"
   ]
  },
  {
   "cell_type": "markdown",
   "metadata": {},
   "source": [
    "### Comparison Operators\n",
    "\n",
    "Comparison operators return either True or False and are used for doing what their name implies: comparing."
   ]
  },
  {
   "cell_type": "code",
   "execution_count": 64,
   "metadata": {},
   "outputs": [
    {
     "name": "stdout",
     "output_type": "stream",
     "text": [
      "2 < 5: True\n",
      "5 <= 5: True\n",
      "2 > 5: False\n",
      "5 >= 5: True\n",
      "5 == 5: True\n",
      "5 != 5: False\n",
      "2 < 5 <= 10: True\n",
      "3 < 6 == 6.0: True\n"
     ]
    }
   ],
   "source": [
    "# Checking if something is less than something else\n",
    "print(\"2 < 5:\", 2 < 5)\n",
    "# Checking if something is less than or equal to\n",
    "print(\"5 <= 5:\", 5 <= 5)\n",
    "# Checking if something is greater than something else\n",
    "print(\"2 > 5:\", 2 > 5)\n",
    "# Checking if something is greater than or equal to\n",
    "print(\"5 >= 5:\", 5 >= 5)\n",
    "# Checking if something is equal to\n",
    "print(\"5 == 5:\", 5 == 5)\n",
    "# Checking if something is not equal to\n",
    "print(\"5 != 5:\", 5 != 5)\n",
    "\n",
    "# Comparisons can also be chained like so:\n",
    "print(\"2 < 5 <= 10:\", 2 < 5 <= 10)\n",
    "print(\"3 < 6 == 6.0:\", 3 < 6 == 6.0)\n"
   ]
  },
  {
   "cell_type": "markdown",
   "metadata": {},
   "source": [
    "### Logical Operators \n",
    "\n",
    "Logical operators allow us to perform logic on conditions. If we want to check if two conditions are both satisfied, we use the `and` operator. To check if either one is satisfied, the `or` operator can be used. The `not` operator inverts the result of any test."
   ]
  },
  {
   "cell_type": "code",
   "execution_count": 74,
   "metadata": {},
   "outputs": [
    {
     "name": "stdout",
     "output_type": "stream",
     "text": [
      "5 < 6 and 10 > 7: True\n",
      "5 < 7 or 10 < 7: True\n",
      "5 < 7 and not 10 < 7: True\n"
     ]
    }
   ],
   "source": [
    "print('5 < 6 and 10 > 7:', 5 < 6 and 10 > 7)\n",
    "print('5 < 7 or 10 < 7:', 5 < 7 or 10 < 7)\n",
    "print('5 < 7 and not 10 < 7:', 5 < 7 or not 10 < 7)"
   ]
  },
  {
   "cell_type": "markdown",
   "metadata": {},
   "source": [
    "### Identity & Membership\n",
    "\n",
    "Two check if two objects are exactly the same (i.e. stored at the same memory location and therefore id(obj1) == id(obj2)) the `is` operator can be employed:"
   ]
  },
  {
   "cell_type": "code",
   "execution_count": 75,
   "metadata": {},
   "outputs": [
    {
     "name": "stdout",
     "output_type": "stream",
     "text": [
      "id(x):140420060736096 id(None):140420060736096\n",
      "x is None: True\n",
      "id(a):140419626540360 id(b):140419626540360\n",
      "a is b: True\n",
      "a is not b: False\n"
     ]
    }
   ],
   "source": [
    "x = None\n",
    "print(\"id(x):{} id(None):{}\".format(id(x), id(None)))\n",
    "print(\"x is None:\", x is None)\n",
    "a = [1, 2, 3,]\n",
    "b = a\n",
    "print(\"id(a):{} id(b):{}\".format(id(a), id(b)))\n",
    "print(\"a is b:\", a is b)\n",
    "print(\"a is not b:\", a is not b)"
   ]
  },
  {
   "cell_type": "markdown",
   "metadata": {},
   "source": [
    "To check if an item appears in a list or set, or if a key exists in a dictionary, the `in` operator can be used to test for membership:"
   ]
  },
  {
   "cell_type": "code",
   "execution_count": 72,
   "metadata": {},
   "outputs": [
    {
     "name": "stdout",
     "output_type": "stream",
     "text": [
      "1 in a: True\n",
      "'a' not in a: True\n"
     ]
    }
   ],
   "source": [
    "a = [1, 2, 3,]\n",
    "print(\"1 in a:\", 1 in a)\n",
    "print(\"'a' not in a:\", 'a' not in a)"
   ]
  },
  {
   "cell_type": "markdown",
   "metadata": {},
   "source": [
    "In both cases, `not` can be used to test for the opposite."
   ]
  },
  {
   "cell_type": "markdown",
   "metadata": {},
   "source": [
    "### Access Operator\n",
    "\n",
    "The access operator is implemented by objects to access data inside of them. The most common usages are value retrieval from dictionaries and list/string slicing and access. However, any object can implement them in any way they want, so keep an eye out for interesting syntax in libraries like numpy and other data structure handlers."
   ]
  },
  {
   "cell_type": "code",
   "execution_count": 85,
   "metadata": {},
   "outputs": [
    {
     "name": "stdout",
     "output_type": "stream",
     "text": [
      "list1[2]: 3\n",
      "list1[2:4]: [3, 4]\n",
      "str1[:5]: This \n",
      "str1[-6:]: string\n",
      "str1[::1]: This is my string\n",
      "str1[::2]: Ti sm tig\n",
      "dict1[\"key\"]: This is my value.\n",
      "dict1.get(\"other key\", \"default\"): default\n"
     ]
    }
   ],
   "source": [
    "list1 = [1, 2, 3, 4,]\n",
    "str1 = \"This is my string\"\n",
    "dict1 = {'key': 'This is my value.'}\n",
    "# Everything in Python is zero indexed.\n",
    "print('list1[2]:', list1[2])\n",
    "# When slicing, the the upper bound is not inclusive.\n",
    "print('list1[2:4]:', list1[2:4])\n",
    "# If starting at the beginning or finishing at the end, \n",
    "# the index can be dropped\n",
    "print('str1[:5]:', str1[:5])\n",
    "# Negative numbers can be used to start at the end and work backwards\n",
    "# -1 is the last element\n",
    "print('str1[-6:]:', str1[-6:])\n",
    "# Slices also include the ability to specify a step size\n",
    "print('str1[::1]:', str1[::1])\n",
    "print('str1[::2]:', str1[::2])\n",
    "# Dictionary key values can be retrieved easily\n",
    "print('dict1[\"key\"]:', dict1[\"key\"])\n",
    "# However if the key doesn't exist, an error will occur\n",
    "# If the key might not exist, use the built in .get() method to\n",
    "# provide a default value\n",
    "print('dict1.get(\"other key\", \"default\"):', dict1.get(\"other key\", \"default\"))"
   ]
  },
  {
   "cell_type": "markdown",
   "metadata": {},
   "source": [
    "### Order of Operations\n",
    "\n",
    "Python follows the standard PEMDAS order of operations that you have come to expect from your calculators. However, bitwise, conditional, and logical operators also need to fit in somewhere. Bitwise operators are above conditional operators whereas logical operators sit below everything else. This is why you don't need parenthesis when doing logical chaining of expressions. The complete list can be found below. Operators on the same level are evaluated left to right.\n",
    "- Access: []\n",
    "- Parenthesis: ()\n",
    "- Unary Operators (Negative, Bitwise Complement): -, ~\n",
    "- Exponentiation: **\n",
    "- Multiplication, Division: *, /, //, %\n",
    "- Addition, Subtraction: +, -\n",
    "- Bitwise Shift: <<, >>\n",
    "- Bitwise AND: &\n",
    "- Bitwise XOR: ^\n",
    "- Bitwise OR: |\n",
    "- Comparison, Identity, & Membership: <, <=, >=, >, ==, !=, is, in\n",
    "- Logical NOT: not\n",
    "- Logical AND: and\n",
    "- Logical OR: or"
   ]
  },
  {
   "cell_type": "markdown",
   "metadata": {},
   "source": [
    "### Operator Overloading\n",
    "\n",
    "A lot of objects will re-implement operators for their own use. Some common examples are shown below."
   ]
  },
  {
   "cell_type": "code",
   "execution_count": 1,
   "metadata": {},
   "outputs": [
    {
     "name": "stdout",
     "output_type": "stream",
     "text": [
      "str1 = ThisandThat\n",
      "set1 = {1, 2, 3}\n",
      "set2 = {'a', 1, 'b', 'c'}\n",
      "set1 & set2 = {1}\n",
      "set1 | set2 = {'a', 1, 2, 3, 'c', 'b'}\n",
      "set1 ^ set2 = {'a', 2, 3, 'c', 'b'}\n"
     ]
    }
   ],
   "source": [
    "# Strings\n",
    "# + combines two strings\n",
    "str1 = \"This\" + \"and\" + \"That\"\n",
    "print('str1 =', str1)\n",
    "\n",
    "# Sets\n",
    "# &, |, ^ perform the standard set operations found in discrete math\n",
    "set1 = {1, 2, 3,}\n",
    "set2 = {'a', 'b', 'c', 1,}\n",
    "print('set1 =', set1)\n",
    "print('set2 =', set2)\n",
    "print('set1 & set2 =', set1 & set2)  # Union\n",
    "print('set1 | set2 =', set1 | set2)  # Intersection\n",
    "print('set1 ^ set2 =', set1 ^ set2)  # In one but not the other"
   ]
  },
  {
   "cell_type": "markdown",
   "metadata": {},
   "source": [
    "## Flow Control"
   ]
  },
  {
   "cell_type": "markdown",
   "metadata": {},
   "source": [
    "### If Statement\n",
    "\n",
    "If statements in Python are pretty straight forward. You check a condition and run some code if it is `True`. To check other conditions if the first fails, you can use `elif` and if all else fails, the `else` clause can be implemented. You can have an many `elif`s as you want and neither `else` nor `elif` is required. The first clause's condition to evaluate to `True` is what runs."
   ]
  },
  {
   "cell_type": "code",
   "execution_count": 88,
   "metadata": {},
   "outputs": [
    {
     "name": "stdout",
     "output_type": "stream",
     "text": [
      "5 is indeed less than 10\n",
      "Jokes aren't my strong suit\n",
      "That's the stuff!\n"
     ]
    }
   ],
   "source": [
    "if 5 < 10:\n",
    "    print(\"5 is indeed less than 10\")\n",
    "    \n",
    "if 6 is \"afraid\":\n",
    "    print(\"It was 7 whom ate 9\")\n",
    "else:\n",
    "    print(\"Jokes aren't my strong suit\")\n",
    "    \n",
    "if 10 * 10 == 99 or 'math' is 'weird':\n",
    "    print(\"That's some weird math you've got there\")\n",
    "elif 10 * 10 == 100:\n",
    "    print(\"That's the stuff!\")\n",
    "else:\n",
    "    print(\"This really should print out\")"
   ]
  },
  {
   "cell_type": "markdown",
   "metadata": {},
   "source": [
    "### While Loop\n",
    "\n",
    "Do stuff while a condition remains `True`. It's pretty straightforward. Just watch out for infinite loops!"
   ]
  },
  {
   "cell_type": "code",
   "execution_count": 103,
   "metadata": {},
   "outputs": [
    {
     "name": "stdout",
     "output_type": "stream",
     "text": [
      "0\n",
      "1\n",
      "2\n",
      "3\n"
     ]
    }
   ],
   "source": [
    "i = 0\n",
    "while i < 4:\n",
    "    print(i)\n",
    "    i += 1"
   ]
  },
  {
   "cell_type": "markdown",
   "metadata": {},
   "source": [
    "The `break` keyword will exit any loop and return you to the outer indentation level. The `continue` keyword will stop loop execution for that iteration and return you to the top for the start of the next iteration."
   ]
  },
  {
   "cell_type": "code",
   "execution_count": 104,
   "metadata": {},
   "outputs": [
    {
     "name": "stdout",
     "output_type": "stream",
     "text": [
      "Whew, that was close!\n",
      "Print the evens!\n",
      "2\n",
      "4\n",
      "6\n",
      "8\n",
      "10\n",
      "inner 9\n",
      "outer 9\n",
      "inner 8\n",
      "outer 8\n",
      "inner 7\n",
      "outer 7\n",
      "inner 6\n",
      "outer 6\n"
     ]
    }
   ],
   "source": [
    "while 5 < 10:\n",
    "    # This loop will run forever! Break out\n",
    "    break\n",
    "print(\"Whew, that was close!\")\n",
    "\n",
    "print(\"Print the evens!\")\n",
    "i = 0\n",
    "while i < 10:\n",
    "    i += 1\n",
    "    if i % 2:  # If i is odd\n",
    "        continue  # Back up to the top for the next loop\n",
    "    print(i)\n",
    "    \n",
    "while i > 6:\n",
    "    i -= 1\n",
    "    while True:\n",
    "        # Breaking out of a nested loop places us in the enclosing loop\n",
    "        print('inner', i)\n",
    "        break \n",
    "    print('outer', i)"
   ]
  },
  {
   "cell_type": "markdown",
   "metadata": {},
   "source": [
    "### For Loop\n",
    "\n",
    "In Python, many objects can be iterated over. This means to grab their elements one-by-one for processing. Lists, dictionaries, and ranges are most common. The `range()` function generates a series of numbers up to but not including the provided stop number. It has the form `range([start,] stop, [step])` where `start` and `step` are not required and are defaulted to 0 and 1, respectively."
   ]
  },
  {
   "cell_type": "code",
   "execution_count": 107,
   "metadata": {
    "scrolled": true
   },
   "outputs": [
    {
     "name": "stdout",
     "output_type": "stream",
     "text": [
      "5\n",
      "6\n",
      "7\n",
      "8\n",
      "9\n",
      "a\n",
      "b\n",
      "c\n",
      "key1 val1\n",
      "key2 val2\n",
      "key1 val1\n",
      "key2 val2\n"
     ]
    }
   ],
   "source": [
    "for i in range(5, 10):\n",
    "    print(i)\n",
    "    \n",
    "for x in ['a', 'b', 'c']:\n",
    "    print(x)\n",
    "    \n",
    "# There are two ways to iterate over a dictionary\n",
    "# Just the keys is the default way\n",
    "dict1 = {\"key1\": \"val1\", \"key2\": \"val2\"}\n",
    "for key in dict1:\n",
    "    print(key, dict1[key])\n",
    "    \n",
    "# To iterate over keys and values together, use the .items() method\n",
    "for key, val in dict1.items():\n",
    "    print(key, val)"
   ]
  },
  {
   "cell_type": "code",
   "execution_count": 107,
   "metadata": {
    "scrolled": true
   },
   "outputs": [
    {
     "name": "stdout",
     "output_type": "stream",
     "text": [
      "5\n",
      "6\n",
      "7\n",
      "8\n",
      "9\n",
      "a\n",
      "b\n",
      "c\n",
      "key1 val1\n",
      "key2 val2\n",
      "key1 val1\n",
      "key2 val2\n"
     ]
    }
   ],
   "source": [
    "for i in range(5, 10):\n",
    "    print(i)\n",
    "    \n",
    "for x in ['a', 'b', 'c']:\n",
    "    print(x)\n",
    "    \n",
    "# There are two ways to iterate over a dictionary\n",
    "# Just the keys is the default way\n",
    "dict1 = {\"key1\": \"val1\", \"key2\": \"val2\"}\n",
    "for key in dict1:\n",
    "    print(key, dict1[key])\n",
    "    \n",
    "# To iterate over keys and values together, use the .items() method\n",
    "for key, val in dict1.items():\n",
    "    print(key, val)"
   ]
  },
  {
   "cell_type": "markdown",
   "metadata": {},
   "source": [
    "### Else? After a loop?\n",
    "\n",
    "The `else` keyword can also be used after a `for` or `while` loop. However, it doesn't work as one might suspect at first glance, so it is best to avoid it most of the time. Many people would expect an `else` clause to run when the loop stopped unexpectantly, either due to an exception or a `break`. However it actually works the exact opposite way. If the loop runs to completion without `break`, the `else` will run. This is most practical when searching for something. The `else` clause will run if it isn't found."
   ]
  },
  {
   "cell_type": "code",
   "execution_count": 102,
   "metadata": {},
   "outputs": [
    {
     "name": "stdout",
     "output_type": "stream",
     "text": [
      "We never could find 10...\n",
      "Found 5!\n"
     ]
    }
   ],
   "source": [
    "for x in range(10):\n",
    "    if x == 10:\n",
    "        print('Found 10!')\n",
    "        break\n",
    "else:\n",
    "    print('We never could find 10...')\n",
    "    \n",
    "for x in range(10):\n",
    "    if x == 5:\n",
    "        print('Found 5!')\n",
    "        break\n",
    "else:\n",
    "    print('We never could find 5...')"
   ]
  },
  {
   "cell_type": "markdown",
   "metadata": {},
   "source": [
    "### Try the Code and Except the Responsibilities\n",
    "\n",
    "Python errors are called `Exception`s. They are used when code does something that is expected but prevents it from continuing so it stops execution and returns to the calling frame. Handling these exceptions is done through the `try...except` structure. If an exception occurs inside of the `try` block, each of the `except` blocks will be checked to see if they apply. The keywords `else` and `finally` can also be used after the `except` blocks but are not required. Code inside the `else` block runs if no error occurred inside of the `try` block. Code inside of the `finally` block runs regardless of whether or not an error occurred, even if the exception wasn't handled. This means that if you want the calling frame to handle the exception but you need to clean up inside your current frame of execution, you can use finally to guarantee that code runs before returning, even if there is an exception."
   ]
  },
  {
   "cell_type": "code",
   "execution_count": 10,
   "metadata": {},
   "outputs": [
    {
     "name": "stdout",
     "output_type": "stream",
     "text": [
      "a is not an integer! See: invalid literal for int() with base 10: 'a'\n",
      "I always run no matter what!\n"
     ]
    }
   ],
   "source": [
    "try:\n",
    "    int(\"a\")\n",
    "except AttributeError as e:\n",
    "    print(\"This error should be skipped over\")\n",
    "except ValueError as e:\n",
    "    print(\"a is not an integer! See:\", e)\n",
    "except (IndexError, AssertionError) as e:\n",
    "    print(\"These errors aren't going to happen either\")\n",
    "except:\n",
    "    print(\"I handle all exceptions. However be careful about using me.\")\n",
    "    print(\"Explicit is always better than implicit.\")\n",
    "else:\n",
    "    print(\"I run if no error occured in the try block!\")\n",
    "finally:\n",
    "    print(\"I always run no matter what!\")"
   ]
  }
 ],
 "metadata": {
  "kernelspec": {
   "display_name": "Python 3",
   "language": "python",
   "name": "python3"
  },
  "language_info": {
   "codemirror_mode": {
    "name": "ipython",
    "version": 3
   },
   "file_extension": ".py",
   "mimetype": "text/x-python",
   "name": "python",
   "nbconvert_exporter": "python",
   "pygments_lexer": "ipython3",
   "version": "3.6.6"
  }
 },
 "nbformat": 4,
 "nbformat_minor": 2
}
