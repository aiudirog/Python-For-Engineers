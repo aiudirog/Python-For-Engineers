{
 "cells": [
  {
   "cell_type": "markdown",
   "metadata": {},
   "source": [
    "# Functional Programming\n",
    "\n",
    "In Python, everything you interact with is an object. From functions to immutable data types, they are all objects. So, when I say functional programming, I mean from the perspective of not creating custom objects through classes that we define ourselves. That will be covered in the next chapter."
   ]
  },
  {
   "cell_type": "markdown",
   "metadata": {},
   "source": [
    "## Operators\n",
    "\n",
    "The first thing I want to talk about are the operators used to perform math and logic."
   ]
  },
  {
   "cell_type": "markdown",
   "metadata": {},
   "source": [
    "### Math Operators\n",
    "\n",
    "The basic mathematical operators of Python are exactly what you expect: add (+), subtract (-), multiply (*), and divide (/). These are demonstrated below."
   ]
  },
  {
   "cell_type": "code",
   "execution_count": 42,
   "metadata": {},
   "outputs": [
    {
     "name": "stdout",
     "output_type": "stream",
     "text": [
      "x = 1024\n",
      "x = 3\n",
      "x = -18\n",
      "x = 112\n",
      "x = 1.0\n",
      "x = -2\n"
     ]
    }
   ],
   "source": [
    "# I know the below prints aren't PEP 8, but it is cleaner for these\n",
    "x = 1024                                      ;print(\"x = {}\".format(x))\n",
    "y = 2\n",
    "\n",
    "x = y + 1                                     ;print(\"x = {}\".format(x))\n",
    "x = y - 20                                    ;print(\"x = {}\".format(x))\n",
    "x = y * 56                                    ;print(\"x = {}\".format(x))\n",
    "x = y / 2                                     ;print(\"x = {}\".format(x))\n",
    "x = -y                                        ;print(\"x = {}\".format(x))"
   ]
  },
  {
   "cell_type": "markdown",
   "metadata": {},
   "source": [
    "Notice how division, even when it results in an integer, is a float type.\n",
    "\n",
    "In addition to these basic operators, three more are provided: floor division (//), modulus (%), and exponentiation (*)"
   ]
  },
  {
   "cell_type": "code",
   "execution_count": 43,
   "metadata": {},
   "outputs": [
    {
     "name": "stdout",
     "output_type": "stream",
     "text": [
      "x = 16\n",
      "x = 10\n",
      "x = 2.0\n",
      "x = 2.0\n",
      "x = 2.0\n",
      "x = 3\n"
     ]
    }
   ],
   "source": [
    "x = 4 ** 2                                    ;print(\"x = {}\".format(x))\n",
    "x = 21 // 2                                   ;print(\"x = {}\".format(x))\n",
    "x = 4.5 // 2                                  ;print(\"x = {}\".format(x))\n",
    "x = 4.0 // 2                                  ;print(\"x = {}\".format(x))\n",
    "x = 4 // 2.0                                  ;print(\"x = {}\".format(x))\n",
    "x = 21 % 6                                    ;print(\"x = {}\".format(x))"
   ]
  },
  {
   "cell_type": "markdown",
   "metadata": {},
   "source": [
    "Floor division clears the remainder and keeps the number as an integer if both the divisor and dividend are integers, else the output is a float.\n",
    "\n",
    "Modulus returns the remainder of the division."
   ]
  },
  {
   "cell_type": "markdown",
   "metadata": {},
   "source": [
    "### Bitwise Operators\n",
    "\n",
    "These operators are incredibly useful for engineers when checking status bits. I have come across people using the bin() function to convert an integer to a string of 1s and 0s and then checking individual characters. This is both time and memory inefficient compared to bit shifting and anding. Before we go into use cases, let's cover the basics, however."
   ]
  },
  {
   "cell_type": "code",
   "execution_count": 44,
   "metadata": {},
   "outputs": [
    {
     "name": "stdout",
     "output_type": "stream",
     "text": [
      "x = 0b100001\n",
      "x = 0b111111\n",
      "x = 0b11110\n",
      "x = 0b1101\n",
      "x = 0b1101101000\n"
     ]
    }
   ],
   "source": [
    "# The 'and' (&) operator only lets bits through that \n",
    "# are the same in both numbers\n",
    "x = 0b110011 & 0b101101                   ;print(\"x = 0b{:b}\".format(x))\n",
    "# The 'or' operator (|) lets bits pass if they exist in either number\n",
    "x = 0b110011 | 0b101101                   ;print(\"x = 0b{:b}\".format(x))\n",
    "# The 'exclusive or' operator (^) only lets bits through that exist\n",
    "# in one or the other number, but not both\n",
    "x = 0b110011 ^ 0b101101                   ;print(\"x = 0b{:b}\".format(x))\n",
    "# Bit shift right (>>) shifts the bits to the right. \n",
    "# Bits that 'fall off' are discarded.\n",
    "x = 0b1101101 >> 3                        ;print(\"x = 0b{:b}\".format(x))\n",
    "# Bit shift left (>>) shifts the bits to the left. \n",
    "# Zeros are added from the right.\n",
    "x = 0b1101101 << 3                        ;print(\"x = 0b{:b}\".format(x))"
   ]
  },
  {
   "cell_type": "markdown",
   "metadata": {},
   "source": [
    "Now, lets cover two simple use cases. We have a status word coming off the engine. The 5th bit (with the 1s bit being the 1st) tells us if the engine is overheating, so we want to check it out. The 3rd and 4th bits are used to determine the state of a nozzle. They follow this pattern:\n",
    "\n",
    "| 3 | 4 | Meaning                  |\n",
    "|---|---|:-------------------------|\n",
    "| 0 | 0 | Nozzle if off            |\n",
    "| 1 | 0 | Nozzle has low flow      |\n",
    "| 0 | 1 | Nozzle has high flow     |\n",
    "| 1 | 1 | Nozzle has malfunctioned |\n",
    "\n",
    "Now let's suppose our boss wants to know if the Nozzle has flow and if it has malfunctioned. He also wants to know if the engine overheated. This should be easy enough, so lets start coding."
   ]
  },
  {
   "cell_type": "code",
   "execution_count": 45,
   "metadata": {},
   "outputs": [
    {
     "name": "stdout",
     "output_type": "stream",
     "text": [
      "overheat = True\n",
      "bit3 = True\n",
      "bit4 = False\n",
      "flow = True\n",
      "malfunction = False\n"
     ]
    }
   ],
   "source": [
    "status = 0b10100  # High flow, overheating\n",
    "\n",
    "# To check if overheating has happened, lets check the 5th bit\n",
    "# To do this, we can and with 0b10000 to isolate the 5th bit\n",
    "overheat = status & 0b10000      ;print(\"overheat = {}\".format(bool(overheat)))\n",
    "# Now, lets check if there is flow. We need to determine if the 3rd or \n",
    "# 4th bit is set but not both, for this we can use exclusive or\n",
    "bit3 = status & 0b00100                  ;print(\"bit3 = {}\".format(bool(bit3)))\n",
    "bit4 = status & 0b01000                  ;print(\"bit4 = {}\".format(bool(bit4)))\n",
    "flow = bit3 ^ bit4                       ;print(\"flow = {}\".format(bool(flow)))\n",
    "# Finally, the malfunction occurs if bit3 and bit4 are set\n",
    "malfunction = bit3 & bit4  ;print(\"malfunction = {}\".format(bool(malfunction)))"
   ]
  },
  {
   "cell_type": "markdown",
   "metadata": {},
   "source": [
    "There is one more bitwise operator that I haven't covered. This is the complement (~) operator. In most languages, this one inverts the values of all of the bits and is referred to as 'not.' However in Python, integers don't have a fixed length and are always signed, so the not operator works a little differently than one might expect:"
   ]
  },
  {
   "cell_type": "code",
   "execution_count": 46,
   "metadata": {},
   "outputs": [
    {
     "name": "stdout",
     "output_type": "stream",
     "text": [
      "it = 0b101011\n",
      "not_it = 0b-101100\n"
     ]
    }
   ],
   "source": [
    "it = 0b101011                          ;print(\"it = 0b{:b}\".format(it))\n",
    "not_it = ~it                           ;print(\"not_it = 0b{:b}\".format(not_it))"
   ]
  },
  {
   "cell_type": "markdown",
   "metadata": {},
   "source": [
    "If you've come from another language, you probably expected not_it to equal 0b0101001, so what is going on here? It turns out, that since integers have no fixed length and are always signed, the ~ operator is actually equivalent to -x-1, where x + ~x = -1. This is proved below."
   ]
  },
  {
   "cell_type": "code",
   "execution_count": 47,
   "metadata": {},
   "outputs": [
    {
     "name": "stdout",
     "output_type": "stream",
     "text": [
      "x = 86\n",
      "~x = -87\n",
      "-x-1 = -87\n",
      "x + ~x = -1\n"
     ]
    }
   ],
   "source": [
    "x = 0b1010110\n",
    "print(\"x = {}\".format(x))\n",
    "print(\"~x = {}\".format(~x))\n",
    "print(\"-x-1 = {}\".format(-x-1))\n",
    "print(\"x + ~x = {}\".format(x + ~x))"
   ]
  },
  {
   "cell_type": "markdown",
   "metadata": {},
   "source": [
    "If you just need to invert all of the bits, the best way to accomplish that is through a mask like so:"
   ]
  },
  {
   "cell_type": "code",
   "execution_count": 48,
   "metadata": {},
   "outputs": [
    {
     "name": "stdout",
     "output_type": "stream",
     "text": [
      "mask = 0b1111111\n",
      "not_x = 0b101001\n"
     ]
    }
   ],
   "source": [
    "# Get the number of bits used in x: 7\n",
    "# Bit shift up to that size number: 0b10000000\n",
    "# Subtract 1 to create a full set of 1s of length 7: 0b1111111\n",
    "# Parenthesis are important because of order of operations\n",
    "mask = (1 << x.bit_length()) - 1         ;print(\"mask = 0b{:b}\".format(mask))\n",
    "# XOR will capture all of the oposite bits\n",
    "# The ones set in the mask but not x\n",
    "not_x = x ^ mask                         ;print(\"not_x = 0b{:b}\".format(not_x))"
   ]
  },
  {
   "cell_type": "markdown",
   "metadata": {},
   "source": [
    "#### *Side Note: Self Application Shorthand*\n",
    "\n",
    "All symbol based operators have a shorthand form to apply the action to the current value. For example: x = x + 1 can also be written as x += 1. Below you can see many of them in action."
   ]
  },
  {
   "cell_type": "code",
   "execution_count": 49,
   "metadata": {},
   "outputs": [
    {
     "name": "stdout",
     "output_type": "stream",
     "text": [
      "x = 1024\n",
      "x = 1025\n",
      "x = 1015\n",
      "x = 2030\n",
      "x = 8365427000\n",
      "x = 929491888.8888888\n",
      "x = 464745944.0\n",
      "x = 24\n",
      "x = 26\n",
      "x = 15\n",
      "x = 3\n",
      "x = 12\n"
     ]
    }
   ],
   "source": [
    "x = 1024                                      ;print(\"x = {}\".format(x))\n",
    "x += 1                                        ;print(\"x = {}\".format(x))\n",
    "x -= 10                                       ;print(\"x = {}\".format(x))\n",
    "x *= 2                                        ;print(\"x = {}\".format(x))\n",
    "x **= 3                                       ;print(\"x = {}\".format(x))\n",
    "x /= 9                                        ;print(\"x = {}\".format(x))\n",
    "x //= 2                                       ;print(\"x = {}\".format(x))\n",
    "x = int(x)  # Reset back to an integer\n",
    "x &= 0b11101                                  ;print(\"x = {}\".format(x))\n",
    "x |= 0b00010                                  ;print(\"x = {}\".format(x))\n",
    "x ^= 0b10101                                  ;print(\"x = {}\".format(x))\n",
    "x >>= 2                                       ;print(\"x = {}\".format(x))\n",
    "x <<= 2                                       ;print(\"x = {}\".format(x))"
   ]
  },
  {
   "cell_type": "markdown",
   "metadata": {},
   "source": [
    "### Comparison Operators"
   ]
  },
  {
   "cell_type": "code",
   "execution_count": null,
   "metadata": {},
   "outputs": [],
   "source": []
  },
  {
   "cell_type": "markdown",
   "metadata": {},
   "source": [
    "### Logical Operators "
   ]
  },
  {
   "cell_type": "code",
   "execution_count": null,
   "metadata": {},
   "outputs": [],
   "source": []
  },
  {
   "cell_type": "markdown",
   "metadata": {},
   "source": [
    "### Order of Operations\n",
    "\n",
    "Python follows the standard PEMDAS order of operations that you have come to expect from your calculators. However, bitwise, conditional, and logical operators also need to fit in somewhere. Bitwise operators are above conditional operators whereas logical operators sit below everything else. This is why you don't need parenthesis when doing logical chaining of expressions. The complete list can be found below. Operators on the same level are evaluated left to right.\n",
    "- Parenthesis: ()\n",
    "- Unary Operators (Negative, Bitwise Complement): -, ~\n",
    "- Exponentiation: **\n",
    "- Multiplication, Division: *, /, //, %\n",
    "- Addition, Subtraction: +, -\n",
    "- Bitwise Shift: <<, >>\n",
    "- Bitwise AND: &\n",
    "- Bitwise XOR: ^\n",
    "- Bitwise OR: |\n",
    "- Comparison: <, <=, >=, >\n",
    "- Equivalence: ==, !=\n",
    "- Identity Checking: is\n",
    "- Contains: in\n",
    "- Logical NOT: not\n",
    "- Logical AND: and\n",
    "- Logical OR: or"
   ]
  },
  {
   "cell_type": "markdown",
   "metadata": {},
   "source": [
    "## Conditionals and Looping"
   ]
  },
  {
   "cell_type": "markdown",
   "metadata": {},
   "source": [
    "### If Statement"
   ]
  },
  {
   "cell_type": "markdown",
   "metadata": {},
   "source": [
    "### For Loop"
   ]
  },
  {
   "cell_type": "markdown",
   "metadata": {},
   "source": [
    "### While Loop"
   ]
  },
  {
   "cell_type": "markdown",
   "metadata": {},
   "source": [
    "## Functions"
   ]
  },
  {
   "cell_type": "markdown",
   "metadata": {},
   "source": [
    "### Standard Functions"
   ]
  },
  {
   "cell_type": "markdown",
   "metadata": {},
   "source": [
    "### Generators"
   ]
  },
  {
   "cell_type": "markdown",
   "metadata": {},
   "source": [
    "### Decorators"
   ]
  },
  {
   "cell_type": "markdown",
   "metadata": {},
   "source": [
    "### Argument Unpacking"
   ]
  }
 ],
 "metadata": {
  "kernelspec": {
   "display_name": "Python 3",
   "language": "python",
   "name": "python3"
  },
  "language_info": {
   "codemirror_mode": {
    "name": "ipython",
    "version": 3
   },
   "file_extension": ".py",
   "mimetype": "text/x-python",
   "name": "python",
   "nbconvert_exporter": "python",
   "pygments_lexer": "ipython3",
   "version": "3.6.5"
  }
 },
 "nbformat": 4,
 "nbformat_minor": 2
}
