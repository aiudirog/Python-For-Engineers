{
 "cells": [
  {
   "cell_type": "markdown",
   "metadata": {},
   "source": [
    "# Functional Programming\n",
    "\n",
    "In Python, everything you interact with is an object. From functions to immutable data types, they are all objects. So, when I say functional programming, I mean from the perspective of not creating custom objects through classes that we define ourself. That will be covered in the next chapter."
   ]
  },
  {
   "cell_type": "markdown",
   "metadata": {},
   "source": [
    "## Operators\n",
    "\n",
    "The first thing I want to talk about are the operators used to perform math and logic."
   ]
  },
  {
   "cell_type": "markdown",
   "metadata": {},
   "source": [
    "### Math Operators\n"
   ]
  },
  {
   "cell_type": "markdown",
   "metadata": {},
   "source": [
    "### Bitwise Operators"
   ]
  },
  {
   "cell_type": "markdown",
   "metadata": {},
   "source": [
    "### Logical Operators "
   ]
  },
  {
   "cell_type": "markdown",
   "metadata": {},
   "source": [
    "### Self Application Shorthand\n",
    "\n",
    "All symbol based operators have a shorthand form to apply the action to the current value. For example: x = x + 1 can also be written as x += 1. Below you can see many of them in action."
   ]
  },
  {
   "cell_type": "code",
   "execution_count": 8,
   "metadata": {},
   "outputs": [
    {
     "name": "stdout",
     "output_type": "stream",
     "text": [
      "x = 1024\n",
      "x = 1025\n",
      "x = 1015\n",
      "x = 2030\n",
      "x = 8365427000\n",
      "x = 929491888.8888888\n",
      "x = 464745944.0\n",
      "x = 24\n",
      "x = 26\n",
      "x = 15\n",
      "x = 3\n",
      "x = 12\n"
     ]
    }
   ],
   "source": [
    "# I know the below prints aren't PEP 8, but it is cleaner for this case\n",
    "x = 1024                                      ;print(\"x = {}\".format(x))\n",
    "x += 1                                        ;print(\"x = {}\".format(x))\n",
    "x -= 10                                       ;print(\"x = {}\".format(x))\n",
    "x *= 2                                        ;print(\"x = {}\".format(x))\n",
    "x **= 3                                       ;print(\"x = {}\".format(x))\n",
    "x /= 9                                        ;print(\"x = {}\".format(x))\n",
    "x //= 2                                       ;print(\"x = {}\".format(x))\n",
    "x = int(x)  # Reset back to an integer\n",
    "x &= 0b11101                                  ;print(\"x = {}\".format(x))\n",
    "x |= 0b00010                                  ;print(\"x = {}\".format(x))\n",
    "x ^= 0b10101                                  ;print(\"x = {}\".format(x))\n",
    "x >>= 2                                       ;print(\"x = {}\".format(x))\n",
    "x <<= 2                                       ;print(\"x = {}\".format(x))"
   ]
  },
  {
   "cell_type": "markdown",
   "metadata": {},
   "source": [
    "## Conditionals and Looping"
   ]
  },
  {
   "cell_type": "markdown",
   "metadata": {},
   "source": [
    "### If Statement"
   ]
  },
  {
   "cell_type": "markdown",
   "metadata": {},
   "source": [
    "### For Loop"
   ]
  },
  {
   "cell_type": "markdown",
   "metadata": {},
   "source": [
    "### While Loop"
   ]
  },
  {
   "cell_type": "markdown",
   "metadata": {},
   "source": [
    "## Functions"
   ]
  },
  {
   "cell_type": "markdown",
   "metadata": {},
   "source": [
    "### Standard Functions"
   ]
  },
  {
   "cell_type": "markdown",
   "metadata": {},
   "source": [
    "### Generators"
   ]
  }
 ],
 "metadata": {
  "kernelspec": {
   "display_name": "Python 3",
   "language": "python",
   "name": "python3"
  },
  "language_info": {
   "codemirror_mode": {
    "name": "ipython",
    "version": 3
   },
   "file_extension": ".py",
   "mimetype": "text/x-python",
   "name": "python",
   "nbconvert_exporter": "python",
   "pygments_lexer": "ipython3",
   "version": "3.6.5"
  }
 },
 "nbformat": 4,
 "nbformat_minor": 2
}
