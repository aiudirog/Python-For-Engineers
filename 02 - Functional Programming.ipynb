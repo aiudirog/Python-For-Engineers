{
 "cells": [
  {
   "cell_type": "markdown",
   "metadata": {},
   "source": [
    "# Functional Programming\n",
    "\n",
    "In Python, everything you interact with is an object. From functions to immutable data types, they are all objects. So, when I say functional programming, I mean from the perspective of not creating custom objects through classes that we define ourself. That will be covered in the next chapter."
   ]
  },
  {
   "cell_type": "markdown",
   "metadata": {},
   "source": [
    "## Operators\n",
    "\n",
    "The first thing I want to talk about are the operators used to perform math and logic."
   ]
  },
  {
   "cell_type": "markdown",
   "metadata": {},
   "source": [
    "### Math Operators\n",
    "\n",
    "The basic mathematical operators of Python are exactly what you expect: add (+), subtract (-), multiply (*) and divide (/). These are demonstrated below."
   ]
  },
  {
   "cell_type": "code",
   "execution_count": 12,
   "metadata": {},
   "outputs": [
    {
     "name": "stdout",
     "output_type": "stream",
     "text": [
      "x = 1024\n",
      "x = 3\n",
      "x = -18\n",
      "x = 112\n",
      "x = 1.0\n"
     ]
    }
   ],
   "source": [
    "# I know the below prints aren't PEP 8, but it is cleaner for these\n",
    "x = 1024                                      ;print(\"x = {}\".format(x))\n",
    "y = 2\n",
    "x = y + 1                                     ;print(\"x = {}\".format(x))\n",
    "x = y - 20                                    ;print(\"x = {}\".format(x))\n",
    "x = y * 56                                    ;print(\"x = {}\".format(x))\n",
    "x = y / 2                                     ;print(\"x = {}\".format(x))"
   ]
  },
  {
   "cell_type": "markdown",
   "metadata": {},
   "source": [
    "Notice how division, even when it results in an integer, results in a float.\n",
    "\n",
    "In addition to these basic operators, two more are provided: floor division (//) and exponentiation (*)"
   ]
  },
  {
   "cell_type": "code",
   "execution_count": 16,
   "metadata": {},
   "outputs": [
    {
     "name": "stdout",
     "output_type": "stream",
     "text": [
      "x = 16\n",
      "x = 10\n",
      "x = 2.0\n",
      "x = 2.0\n",
      "x = 2.0\n"
     ]
    }
   ],
   "source": [
    "x = 4 ** 2                                    ;print(\"x = {}\".format(x))\n",
    "x = 21 // 2                                   ;print(\"x = {}\".format(x))\n",
    "x = 4.5 // 2                                  ;print(\"x = {}\".format(x))\n",
    "x = 4.0 // 2                                  ;print(\"x = {}\".format(x))\n",
    "x = 4 // 2.0                                  ;print(\"x = {}\".format(x))"
   ]
  },
  {
   "cell_type": "markdown",
   "metadata": {},
   "source": [
    "Floor division clears the remainder and keeps the number in an integer if both the divisor and dividend are integers, else i"
   ]
  },
  {
   "cell_type": "markdown",
   "metadata": {},
   "source": [
    "### Bitwise Operators"
   ]
  },
  {
   "cell_type": "markdown",
   "metadata": {},
   "source": [
    "### Logical Operators "
   ]
  },
  {
   "cell_type": "markdown",
   "metadata": {},
   "source": [
    "### Self Application Shorthand\n",
    "\n",
    "All symbol based operators have a shorthand form to apply the action to the current value. For example: x = x + 1 can also be written as x += 1. Below you can see many of them in action."
   ]
  },
  {
   "cell_type": "code",
   "execution_count": 8,
   "metadata": {},
   "outputs": [
    {
     "name": "stdout",
     "output_type": "stream",
     "text": [
      "x = 1024\n",
      "x = 1025\n",
      "x = 1015\n",
      "x = 2030\n",
      "x = 8365427000\n",
      "x = 929491888.8888888\n",
      "x = 464745944.0\n",
      "x = 24\n",
      "x = 26\n",
      "x = 15\n",
      "x = 3\n",
      "x = 12\n"
     ]
    }
   ],
   "source": [
    "x = 1024                                      ;print(\"x = {}\".format(x))\n",
    "x += 1                                        ;print(\"x = {}\".format(x))\n",
    "x -= 10                                       ;print(\"x = {}\".format(x))\n",
    "x *= 2                                        ;print(\"x = {}\".format(x))\n",
    "x **= 3                                       ;print(\"x = {}\".format(x))\n",
    "x /= 9                                        ;print(\"x = {}\".format(x))\n",
    "x //= 2                                       ;print(\"x = {}\".format(x))\n",
    "x = int(x)  # Reset back to an integer\n",
    "x &= 0b11101                                  ;print(\"x = {}\".format(x))\n",
    "x |= 0b00010                                  ;print(\"x = {}\".format(x))\n",
    "x ^= 0b10101                                  ;print(\"x = {}\".format(x))\n",
    "x >>= 2                                       ;print(\"x = {}\".format(x))\n",
    "x <<= 2                                       ;print(\"x = {}\".format(x))"
   ]
  },
  {
   "cell_type": "markdown",
   "metadata": {},
   "source": [
    "### Order of Operations\n",
    "\n",
    "Python follows the standard PEMDAS order of operations that you have come to expect from your calculators. However, bitwise and logical operators also need to fit in somewhere. Bitwise operators sit between exponentiation and multiplication whereas logical operators sit below everything. This is why you don't need parenthesis when doing conditionals. The complete list can be found below. Operators on the same level are evaluated left to right.\n",
    "1. Parenthesis: ()\n",
    "2. Exponentiation: **\n",
    "3. Bitwise NOT: ~\n",
    "4. Bitwise AND: &\n",
    "5. Bitwise XOR: ^\n",
    "6. Bitwise OR: |\n",
    "7. Multiplication, Division: *,/,//\n",
    "8. Addition, Subtraction: +,-\n",
    "9. Logical NOT: not\n",
    "10. Logical AND: and\n",
    "11. Logical OR: or"
   ]
  },
  {
   "cell_type": "markdown",
   "metadata": {},
   "source": [
    "## Conditionals and Looping"
   ]
  },
  {
   "cell_type": "markdown",
   "metadata": {},
   "source": [
    "### If Statement"
   ]
  },
  {
   "cell_type": "markdown",
   "metadata": {},
   "source": [
    "### For Loop"
   ]
  },
  {
   "cell_type": "markdown",
   "metadata": {},
   "source": [
    "### While Loop"
   ]
  },
  {
   "cell_type": "markdown",
   "metadata": {},
   "source": [
    "## Functions"
   ]
  },
  {
   "cell_type": "markdown",
   "metadata": {},
   "source": [
    "### Standard Functions"
   ]
  },
  {
   "cell_type": "markdown",
   "metadata": {},
   "source": [
    "### Generators"
   ]
  }
 ],
 "metadata": {
  "kernelspec": {
   "display_name": "Python 3",
   "language": "python",
   "name": "python3"
  },
  "language_info": {
   "codemirror_mode": {
    "name": "ipython",
    "version": 3
   },
   "file_extension": ".py",
   "mimetype": "text/x-python",
   "name": "python",
   "nbconvert_exporter": "python",
   "pygments_lexer": "ipython3",
   "version": "3.6.5"
  }
 },
 "nbformat": 4,
 "nbformat_minor": 2
}
