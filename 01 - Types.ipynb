{
 "cells": [
  {
   "cell_type": "markdown",
   "metadata": {},
   "source": [
    "# Basic Types"
   ]
  },
  {
   "cell_type": "markdown",
   "metadata": {},
   "source": [
    "## Immutable Types\n",
    "\n",
    "In programming, an immutable variable is one which cannot be modified after creation. In the case of Python, its immutable types return a new piece of data when modified or passed to a function. For example, if I were to make an integer variable and pass it to a function and that function were to add something to it, it wouldn't affect my original variable as shown below:"
   ]
  },
  {
   "cell_type": "code",
   "execution_count": 4,
   "metadata": {},
   "outputs": [
    {
     "name": "stdout",
     "output_type": "stream",
     "text": [
      "my_var = 1 @ memory address 140160794876544\n",
      "x = 1 @ memory address 140160794876544\n",
      "x = 2 @ memory address 140160794876576\n",
      "my_var = 1 @ memory address 140160794876544\n",
      "output = 2 @ memory address 140160794876576\n"
     ]
    }
   ],
   "source": [
    "def print_var(var, name):\n",
    "    # Simple helper function to print out a variable's information\n",
    "    print(\"{} = {} @ memory address {}\".format(name, var, id(var)))\n",
    "    \n",
    "def my_function(x):\n",
    "    print_var(x, 'x')\n",
    "    x += 1\n",
    "    print_var(x, 'x')\n",
    "    return x\n",
    "    \n",
    "my_var = 1\n",
    "print_var(my_var, 'my_var')\n",
    "output = my_function(my_var)\n",
    "print_var(my_var, 'my_var')\n",
    "print_var(output, 'output')\n",
    "\n"
   ]
  },
  {
   "cell_type": "markdown",
   "metadata": {},
   "source": [
    "As you can see, when `my_var` is passed to `my_function`, `x` points to the same memory address as `my_var`. However, as soon as it is modified, the new value is placed at a new memory address. When the function returns, `my_var` still points to the same memory address and `output` points to the new data. In this section, we will cover the different immutable types and what they are used for."
   ]
  },
  {
   "cell_type": "markdown",
   "metadata": {},
   "source": [
    "### Numbers\n",
    "\n",
    "In Python, there are two basic types of numbers: integers and floating point numbers. Integers have infinite length and therefore do not ever overflow, unlike in other common languages like C and Java. Floating point numbers have the precision defined by the processor architecure for your machine."
   ]
  },
  {
   "cell_type": "code",
   "execution_count": 8,
   "metadata": {},
   "outputs": [
    {
     "name": "stdout",
     "output_type": "stream",
     "text": [
      "a = 1 @ memory address 140160794876544\n",
      "b = 1 @ memory address 140160794876544\n",
      "c = 1.1 @ memory address 140160634481304\n",
      "d = 1.1 @ memory address 140160634481280\n"
     ]
    }
   ],
   "source": [
    "# Integers\n",
    "a = 1\n",
    "b = int('1')\n",
    "print_var(a, 'a')\n",
    "print_var(b, 'b')\n",
    "\n",
    "# Floats\n",
    "c = 1.1\n",
    "print_var(c, 'c')\n",
    "d = float('1.1')\n",
    "print_var(d, 'd')"
   ]
  },
  {
   "cell_type": "markdown",
   "metadata": {},
   "source": [
    "If you look closely, you will notice that a and b share the same memory address. Python is smart enough to notice that when two variables have the exact same value and are immutable, they can safely share the same memory address. Floats do not assume this trait for reasons that are far outside the scope of this book."
   ]
  },
  {
   "cell_type": "markdown",
   "metadata": {},
   "source": [
    "### Booleans"
   ]
  },
  {
   "cell_type": "code",
   "execution_count": null,
   "metadata": {},
   "outputs": [],
   "source": []
  },
  {
   "cell_type": "markdown",
   "metadata": {},
   "source": [
    "### Strings"
   ]
  },
  {
   "cell_type": "code",
   "execution_count": null,
   "metadata": {},
   "outputs": [],
   "source": []
  },
  {
   "cell_type": "markdown",
   "metadata": {},
   "source": [
    "### Tuples"
   ]
  },
  {
   "cell_type": "code",
   "execution_count": null,
   "metadata": {},
   "outputs": [],
   "source": []
  },
  {
   "cell_type": "markdown",
   "metadata": {},
   "source": [
    "## Mutable Types"
   ]
  },
  {
   "cell_type": "markdown",
   "metadata": {},
   "source": [
    "### Lists"
   ]
  },
  {
   "cell_type": "code",
   "execution_count": null,
   "metadata": {},
   "outputs": [],
   "source": []
  },
  {
   "cell_type": "markdown",
   "metadata": {},
   "source": [
    "### Dictionaries"
   ]
  },
  {
   "cell_type": "code",
   "execution_count": null,
   "metadata": {},
   "outputs": [],
   "source": []
  },
  {
   "cell_type": "markdown",
   "metadata": {},
   "source": [
    "### Sets"
   ]
  },
  {
   "cell_type": "code",
   "execution_count": null,
   "metadata": {},
   "outputs": [],
   "source": []
  },
  {
   "cell_type": "code",
   "execution_count": null,
   "metadata": {},
   "outputs": [],
   "source": []
  },
  {
   "cell_type": "code",
   "execution_count": null,
   "metadata": {},
   "outputs": [],
   "source": []
  }
 ],
 "metadata": {
  "kernelspec": {
   "display_name": "Python 3",
   "language": "python",
   "name": "python3"
  },
  "language_info": {
   "codemirror_mode": {
    "name": "ipython",
    "version": 3
   },
   "file_extension": ".py",
   "mimetype": "text/x-python",
   "name": "python",
   "nbconvert_exporter": "python",
   "pygments_lexer": "ipython3",
   "version": "3.6.5"
  }
 },
 "nbformat": 4,
 "nbformat_minor": 2
}
