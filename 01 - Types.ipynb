{
 "cells": [
  {
   "cell_type": "markdown",
   "metadata": {},
   "source": [
    "# Basic Types\n",
    "\n",
    "This chapter will cover need to know information about Python's basic types. An in-depth discussion can be found in the documentation: https://docs.python.org/3/library/stdtypes.html"
   ]
  },
  {
   "cell_type": "markdown",
   "metadata": {},
   "source": [
    "## Immutable Types\n",
    "\n",
    "In programming, an immutable variable is one which cannot be modified after creation. In the case of Python, its immutable types return a new piece of data when modified or passed to a function. For example, if I were to make an integer variable and pass it to a function and that function were to add something to it, it wouldn't affect my original variable as shown below:"
   ]
  },
  {
   "cell_type": "code",
   "execution_count": 50,
   "metadata": {},
   "outputs": [
    {
     "name": "stdout",
     "output_type": "stream",
     "text": [
      "my_var = 1 @ 0x7f79ba63da80\n",
      "x = 1 @ 0x7f79ba63da80\n",
      "x = 2 @ 0x7f79ba63daa0\n",
      "my_var = 1 @ 0x7f79ba63da80\n",
      "output = 2 @ 0x7f79ba63daa0\n"
     ]
    }
   ],
   "source": [
    "def print_var(var, name):\n",
    "    # Simple helper function to print out a variable's information\n",
    "    # repr is used to show the and its type\n",
    "    # id shows the memory address\n",
    "    # hex shows it in hexadecimal form\n",
    "    print(\"{} = {} @ {}\".format(name, repr(var), hex(id(var))))\n",
    "    \n",
    "def my_function(x):\n",
    "    print_var(x, 'x')\n",
    "    x += 1\n",
    "    print_var(x, 'x')\n",
    "    return x\n",
    "    \n",
    "my_var = 1\n",
    "print_var(my_var, 'my_var')\n",
    "output = my_function(my_var)\n",
    "print_var(my_var, 'my_var')\n",
    "print_var(output, 'output')"
   ]
  },
  {
   "cell_type": "markdown",
   "metadata": {},
   "source": [
    "As you can see, when `my_var` is passed to `my_function`, `x` points to the same memory address as `my_var`. However, as soon as it is modified, the new value is placed at a new memory address. When the function returns, `my_var` still points to the same memory address and `output` points to the new data. In this section, we will cover the different immutable types and what they are used for."
   ]
  },
  {
   "cell_type": "markdown",
   "metadata": {},
   "source": [
    "### Integers\n",
    "\n",
    "Like the name implies, integers are your basic counting numbers. In Python 3, Integers have infinite length and therefore do not ever overflow. In the old Python 2, they were capped at the max size for long int on your processor like in other common languages such as C and Java. "
   ]
  },
  {
   "cell_type": "code",
   "execution_count": 51,
   "metadata": {},
   "outputs": [
    {
     "name": "stdout",
     "output_type": "stream",
     "text": [
      "int1 = 1 @ 0x7f79ba63da80\n",
      "int2 = 1 @ 0x7f79ba63da80\n"
     ]
    }
   ],
   "source": [
    "int1 = 1\n",
    "print_var(int1, 'int1')\n",
    "int2 = int('1')\n",
    "print_var(int2, 'int2')"
   ]
  },
  {
   "cell_type": "markdown",
   "metadata": {},
   "source": [
    "If you look closely, you will notice that a and b share the same memory address. Python is smart enough to notice that when two variables have the exact same value and are immutable, they can safely share the same memory address. \n",
    "\n",
    "Integers can also be defined in many different bases."
   ]
  },
  {
   "cell_type": "code",
   "execution_count": 83,
   "metadata": {},
   "outputs": [
    {
     "name": "stdout",
     "output_type": "stream",
     "text": [
      "ten_dec = 10 @ 0x7f79ba63dba0\n",
      "ten_hex = 10 @ 0x7f79ba63dba0\n",
      "ten_oct = 10 @ 0x7f79ba63dba0\n",
      "ten_bin = 10 @ 0x7f79ba63dba0\n",
      "ten_dec2 = 10 @ 0x7f79ba63dba0\n",
      "ten_hex2 = 10 @ 0x7f79ba63dba0\n",
      "ten_oct2 = 10 @ 0x7f79ba63dba0\n",
      "ten_bin2 = 10 @ 0x7f79ba63dba0\n",
      "ten_auto2 = 10 @ 0x7f79ba63dba0\n"
     ]
    }
   ],
   "source": [
    "ten_dec = 10\n",
    "print_var(ten_dec, 'ten_dec')\n",
    "ten_hex = 0xA\n",
    "print_var(ten_hex, 'ten_hex')\n",
    "ten_oct = 0o12\n",
    "print_var(ten_oct, 'ten_oct')\n",
    "ten_bin = 0b1010\n",
    "print_var(ten_bin, 'ten_bin')\n",
    "\n",
    "# The int function also can be told what base to use\n",
    "ten_dec2 = int('10', 10)  # 10 is the default\n",
    "print_var(ten_dec2, 'ten_dec2')\n",
    "ten_hex2 = int('A', 16)\n",
    "print_var(ten_hex2, 'ten_hex2')\n",
    "ten_oct2 = int('12', 8)\n",
    "print_var(ten_oct2, 'ten_oct2')\n",
    "ten_bin2 = int('1010', 2)\n",
    "print_var(ten_bin2, 'ten_bin2')\n",
    "\n",
    "# Using 0 for the base prompts auto discovery by prefix.\n",
    "ten_auto2 = int('0xA', 0)\n",
    "print_var(ten_auto2, 'ten_auto2')\n"
   ]
  },
  {
   "cell_type": "markdown",
   "metadata": {},
   "source": [
    "### Floating Point Numbers\n",
    "\n",
    "Floating point numbers, more commonly referred to as 'floats,' are used for decimal approximations. Floats have the precision defined by the processor architecure for your machine."
   ]
  },
  {
   "cell_type": "code",
   "execution_count": 52,
   "metadata": {},
   "outputs": [
    {
     "name": "stdout",
     "output_type": "stream",
     "text": [
      "f1 = 1.1 @ 0x7f79b0d46f00\n",
      "f2 = 1.1 @ 0x7f79b0d46b10\n"
     ]
    }
   ],
   "source": [
    "f1 = 1.1\n",
    "print_var(f1, 'f1')\n",
    "f2 = float('1.1')\n",
    "print_var(f2, 'f2')"
   ]
  },
  {
   "cell_type": "markdown",
   "metadata": {},
   "source": [
    "Notice that floats do not assume the trait that integers do: even though they are the same value, they do not share the same memory address. This is for reasons that are far outside the scope of this book."
   ]
  },
  {
   "cell_type": "markdown",
   "metadata": {},
   "source": [
    "### Complex Numbers\n",
    "\n",
    "Python also supports complex numbers which can be defined multiple ways:"
   ]
  },
  {
   "cell_type": "code",
   "execution_count": 53,
   "metadata": {},
   "outputs": [
    {
     "name": "stdout",
     "output_type": "stream",
     "text": [
      "complex1 = (6+5j) @ 0x7f79ad0dcaf0\n",
      "complex2 = (4+6.7j) @ 0x7f79ad0dc850\n",
      "complex3 = (10.34+3.3j) @ 0x7f79ad0dc250\n",
      "r1 = 6.0 @ 0x7f79ac80d090\n",
      "i1 = 5.0 @ 0x7f79b0d46fc0\n"
     ]
    }
   ],
   "source": [
    "complex1 = 6 + 5j\n",
    "print_var(complex1, 'complex1')\n",
    "complex2 = 4 + 6.7J\n",
    "print_var(complex2, 'complex2')\n",
    "complex3 = complex(10.34, 3.3)\n",
    "print_var(complex3, 'complex3')\n",
    "\n",
    "# To extract the parts:\n",
    "r1, i1 = complex1.real, complex1.imag\n",
    "print_var(r1, 'r1')\n",
    "print_var(i1, 'i1')\n"
   ]
  },
  {
   "cell_type": "markdown",
   "metadata": {},
   "source": [
    "### Strings\n",
    "\n",
    "Strings are used to store text. As of Python 3, all strings in Python support the full unicode set by default. Strings in Python 2 defaulted to ASCII in most cases, severely limiting the variety of characters. Note that there is no single character type, characters are simply strings of length 1."
   ]
  },
  {
   "cell_type": "code",
   "execution_count": 54,
   "metadata": {},
   "outputs": [
    {
     "name": "stdout",
     "output_type": "stream",
     "text": [
      "str1 = 'This is my text' @ 0x7f79ac7fd1f0\n",
      "str2 = '2' @ 0x7f79ac807228\n",
      "str3 = '(2.2+6.7j)' @ 0x7f79ac7f6ef0\n"
     ]
    }
   ],
   "source": [
    "str1 = \"This is my text\"\n",
    "print_var(str1, 'str1')\n",
    "# Most every object can be converted to a string \n",
    "# representation via the str() function.\n",
    "str2 = str(2)\n",
    "print_var(str2, 'str2')\n",
    "str3 = str(2.2 + 6.7j)\n",
    "print_var(str3, 'str3')"
   ]
  },
  {
   "cell_type": "markdown",
   "metadata": {},
   "source": [
    "As this is still an immutable type, it is impossible to modify a string in place by normal means (unlike character arrays in languages like C). The below code should error:"
   ]
  },
  {
   "cell_type": "code",
   "execution_count": 55,
   "metadata": {},
   "outputs": [
    {
     "ename": "TypeError",
     "evalue": "'str' object does not support item assignment",
     "output_type": "error",
     "traceback": [
      "\u001b[0;31m---------------------------------------------------------------------------\u001b[0m",
      "\u001b[0;31mTypeError\u001b[0m                                 Traceback (most recent call last)",
      "\u001b[0;32m<ipython-input-55-1a6a8a527494>\u001b[0m in \u001b[0;36m<module>\u001b[0;34m()\u001b[0m\n\u001b[1;32m      1\u001b[0m \u001b[0;31m# The [] operator will be covered in the Operators section\u001b[0m\u001b[0;34m\u001b[0m\u001b[0;34m\u001b[0m\u001b[0m\n\u001b[0;32m----> 2\u001b[0;31m \u001b[0mstr1\u001b[0m\u001b[0;34m[\u001b[0m\u001b[0;34m:\u001b[0m\u001b[0;36m5\u001b[0m\u001b[0;34m]\u001b[0m \u001b[0;34m=\u001b[0m \u001b[0;34m\"Make\"\u001b[0m\u001b[0;34m\u001b[0m\u001b[0m\n\u001b[0m",
      "\u001b[0;31mTypeError\u001b[0m: 'str' object does not support item assignment"
     ]
    }
   ],
   "source": [
    "# The [] operator will be covered in the Operators section\n",
    "str1[:5] = \"Make\""
   ]
  },
  {
   "cell_type": "markdown",
   "metadata": {},
   "source": [
    "To modify a string, we must create a new one and there are a lot of built in methods to help us (a list of which can be found at https://docs.python.org/3/library/stdtypes.html#string-methods):"
   ]
  },
  {
   "cell_type": "code",
   "execution_count": 56,
   "metadata": {},
   "outputs": [
    {
     "name": "stdout",
     "output_type": "stream",
     "text": [
      "str1 = 'This is my text' @ 0x7f79ac7fd1f0\n",
      "str4 = 'Make is my text' @ 0x7f79ac810370\n"
     ]
    }
   ],
   "source": [
    "str4 = str1.replace('This', 'Make')\n",
    "print_var(str1, 'str1')\n",
    "print_var(str4, 'str4')"
   ]
  },
  {
   "cell_type": "markdown",
   "metadata": {},
   "source": [
    "Notice how we got a brand new string at a brand new memory address."
   ]
  },
  {
   "cell_type": "markdown",
   "metadata": {},
   "source": [
    "### Booleans\n",
    "\n",
    "Before Python 2.3, 1 & 0 were used for booleans. Then PEP 285 was passed and True & False became the dedicated boolean type. We will talk about these more when handling conditional statements."
   ]
  },
  {
   "cell_type": "code",
   "execution_count": 57,
   "metadata": {},
   "outputs": [],
   "source": [
    "bool1 = True\n",
    "bool2 = False"
   ]
  },
  {
   "cell_type": "markdown",
   "metadata": {},
   "source": [
    "### Tuples\n",
    "\n",
    "Tuples are only partially immutable. They are a way to group data together arbitrarily in an array-like fasion. If the data being grouped is mutable, that data can still change internally, however adding new data or reordering the data of the tuple requires creating a new tuple."
   ]
  },
  {
   "cell_type": "code",
   "execution_count": 58,
   "metadata": {},
   "outputs": [
    {
     "name": "stdout",
     "output_type": "stream",
     "text": [
      "tup1 = (1, 2, 3) @ 0x7f79ac800288\n",
      "tup1[0] = 1 @ 0x7f79ba63da80\n",
      "tup1[1] = 2 @ 0x7f79ba63daa0\n",
      "tup1[2] = 3 @ 0x7f79ba63dac0\n",
      "tup2 = ('a', 'b', 'c') @ 0x7f79ad0ee3a8\n",
      "tup2[0] = 'a' @ 0x7f79b9867458\n",
      "tup2[1] = 'b' @ 0x7f79b98a0ca8\n",
      "tup2[2] = 'c' @ 0x7f79b990ec70\n"
     ]
    }
   ],
   "source": [
    "tup1 = (1, 2, 3,)\n",
    "print_var(tup1, 'tup1')\n",
    "print_var(tup1[0], 'tup1[0]')\n",
    "print_var(tup1[1], 'tup1[1]')\n",
    "print_var(tup1[2], 'tup1[2]')\n",
    "# The data in tup1 can now be passed somewhere and used, but the order\n",
    "# can't be changed and nothing can be added or removed without making\n",
    "# a new tuple.\n",
    "\n",
    "# Any iterable can be turned into a tuple. We will talk more about\n",
    "# iterables later.\n",
    "tup2 = tuple(['a', 'b', 'c',])\n",
    "print_var(tup2, 'tup2')\n",
    "print_var(tup2[0], 'tup2[0]')\n",
    "print_var(tup2[1], 'tup2[1]')\n",
    "print_var(tup2[2], 'tup2[2]')\n"
   ]
  },
  {
   "cell_type": "markdown",
   "metadata": {},
   "source": [
    "## Mutable Types\n",
    "\n",
    "Almost everything else in Python is mutable. This means the data it contains can be modified without creating a new object."
   ]
  },
  {
   "cell_type": "markdown",
   "metadata": {},
   "source": [
    "### Lists\n",
    "\n",
    "Lists are like arrays, except that they can handle any data type and mix and match data types. If you want to put lists inside of lists alongside integers and strings, go for it, just as long as you can explain why to someone else later."
   ]
  },
  {
   "cell_type": "code",
   "execution_count": 59,
   "metadata": {},
   "outputs": [
    {
     "name": "stdout",
     "output_type": "stream",
     "text": [
      "list_of_ints = [1, 2, 3, 4] @ 0x7f79ad9a6648\n",
      "list_of_lists = [[1, 2, 3, 4], ['a', 'b', 'c', 'd']] @ 0x7f79ad9a6ec8\n",
      "list_of_range = [5, 6, 7, 8, 9] @ 0x7f79ac7fdb48\n",
      "list_of_ints = [1, 2, 3, 4, 5] @ 0x7f79ad9a6648\n",
      "list_of_ints = [1, 2, 4, 5] @ 0x7f79ad9a6648\n",
      "third_ele = 3 @ 0x7f79ba63dac0\n",
      "list_of_ints = [1, 2, 4, 5, 5, 6, 7, 8, 9] @ 0x7f79ad9a6648\n"
     ]
    }
   ],
   "source": [
    "list_of_ints = [1, 2, 3, 4,]\n",
    "print_var(list_of_ints, 'list_of_ints')\n",
    "\n",
    "list_of_lists = [list_of_ints, ['a', 'b', 'c', 'd'],]\n",
    "print_var(list_of_lists, 'list_of_lists')\n",
    "# Like tuples, iterables can be turned into lists\n",
    "list_of_range = list(range(5, 10))\n",
    "print_var(list_of_range, 'list_of_range')\n",
    "\n",
    "# Lists can be modified and appened to:\n",
    "list_of_ints.append(5)  # Add 5 to the end\n",
    "print_var(list_of_ints, 'list_of_ints')\n",
    "\n",
    "third_ele = list_of_ints.pop(2)  # Get and remove the 3rd element\n",
    "print_var(list_of_ints, 'list_of_ints')\n",
    "print_var(third_ele, 'third_ele')\n",
    "\n",
    "list_of_ints.extend(list_of_range)  # Append the contents of another list\n",
    "print_var(list_of_ints, 'list_of_ints')"
   ]
  },
  {
   "cell_type": "markdown",
   "metadata": {},
   "source": [
    "Notice how no matter how we modify the list, the memory address doesn't change."
   ]
  },
  {
   "cell_type": "markdown",
   "metadata": {},
   "source": [
    "### Dictionaries\n",
    "\n",
    "Dictionaries, also called HashMaps in other languages, are the bread and butter of Python. Everything is a dictionary or similar object at its core. Even immutable types like str and int contain a dictionary that stores their properties. It is what allows this language to be so powerful and dynamic. Any hashable object can be a key, what it means to be hashable is defined [here](https://docs.python.org/3/glossary.html#term-hashable) and any custom object (discussed in Classes & Objects) can make itself hashable."
   ]
  },
  {
   "cell_type": "code",
   "execution_count": 60,
   "metadata": {},
   "outputs": [
    {
     "name": "stdout",
     "output_type": "stream",
     "text": [
      "dict1 = {'key': 'value', 10: '10', '10': 10} @ 0x7f79ac8009d8\n",
      "dict1 = {'key': 'value', 10: '10', '10': 10, 'new_key': 'C minor'} @ 0x7f79ac8009d8\n",
      "dict2 = {'arg1': 10, 'arg2': 'arg2'} @ 0x7f79ac8011f8\n"
     ]
    }
   ],
   "source": [
    "dict1 = {\n",
    "    'key': 'value',\n",
    "    10: '10',\n",
    "    '10': 10,\n",
    "}\n",
    "print_var(dict1, 'dict1')\n",
    "dict1['new_key'] = 'C minor'\n",
    "print_var(dict1, 'dict1')\n",
    "\n",
    "dict2 = dict(arg1=10, arg2='arg2')\n",
    "print_var(dict2, 'dict2')"
   ]
  },
  {
   "cell_type": "markdown",
   "metadata": {},
   "source": [
    "### Sets\n",
    "\n",
    "If you've ever taken Discrete Math, you probably have heard the question 'Does the set of all sets contain itself?' This answer to this question is True in Python. Sets are like lists, except they implement discrete math rules. They can be subtracted from, ored and anded, and they can only contain one of every element. Set"
   ]
  },
  {
   "cell_type": "code",
   "execution_count": 81,
   "metadata": {},
   "outputs": [
    {
     "name": "stdout",
     "output_type": "stream",
     "text": [
      "set1 = {1, 2, 4, 5} @ 0x7f79ac875208\n",
      "set1 = {1, 2, 4, 5, 8, 9} @ 0x7f79ac875208\n",
      "set1 = {1, 4, 5, 9} @ 0x7f79ac875208\n",
      "empty_set = set() @ 0x7f79b20ddac8\n"
     ]
    }
   ],
   "source": [
    "set1 = {1, 2, 1, 4, 5}\n",
    "print_var(set1, 'set1')\n",
    "# Add elemented with or\n",
    "set1 |= {8, 9}\n",
    "print_var(set1, 'set1')\n",
    "# Remove elements with subtract\n",
    "set1 -= {8, 2}\n",
    "print_var(set1, 'set1')\n",
    "\n",
    "# A set can be defined with curly braces only if it has elements\n",
    "# Otherwise it is an empty dictionary, they get priority\n",
    "empty_set = set()\n",
    "print_var(empty_set, 'empty_set')"
   ]
  },
  {
   "cell_type": "markdown",
   "metadata": {},
   "source": [
    "Notice how"
   ]
  },
  {
   "cell_type": "code",
   "execution_count": null,
   "metadata": {},
   "outputs": [],
   "source": []
  }
 ],
 "metadata": {
  "kernelspec": {
   "display_name": "Python 3",
   "language": "python",
   "name": "python3"
  },
  "language_info": {
   "codemirror_mode": {
    "name": "ipython",
    "version": 3
   },
   "file_extension": ".py",
   "mimetype": "text/x-python",
   "name": "python",
   "nbconvert_exporter": "python",
   "pygments_lexer": "ipython3",
   "version": "3.6.5"
  }
 },
 "nbformat": 4,
 "nbformat_minor": 2
}
